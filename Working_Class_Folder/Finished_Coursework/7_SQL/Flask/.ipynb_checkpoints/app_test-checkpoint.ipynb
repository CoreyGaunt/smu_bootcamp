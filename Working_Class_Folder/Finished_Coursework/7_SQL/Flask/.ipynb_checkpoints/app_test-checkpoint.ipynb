{
 "cells": [
  {
   "cell_type": "code",
   "execution_count": null,
   "metadata": {},
   "outputs": [],
   "source": [
    "from flask import Flask\n",
    "app.py = Flask(__name__)"
   ]
  },
  {
   "cell_type": "code",
   "execution_count": null,
   "metadata": {},
   "outputs": [],
   "source": [
    "@app.route(\"/\")\n",
    "def home():\n",
    "    print('Server request received for Home page...')\n",
    "    return 'Welcome to my API'\n",
    "\n",
    "name = \"Corey\"\n",
    "location = \"Dallas\"\n",
    "email = 'test@test.com'\n",
    "\n",
    "@app.route(\"/about\")\n",
    "def about():\n",
    "    print(\"Server received request for 'About' page...\")\n",
    "    return f\"Name: {name}, Location: {location}\"\n",
    "\n",
    "@app/route(\"/contact\")\n",
    "def contact():\n",
    "    print(\"Server received request for 'Contact' page...\")\n",
    "    return f\"You can reach me at {email}\"\n",
    "\n",
    "\n",
    "if __name__ == \"__main__\":\n",
    "    app.run(debug=False)"
   ]
  },
  {
   "cell_type": "code",
   "execution_count": null,
   "metadata": {},
   "outputs": [],
   "source": [
    "export "
   ]
  }
 ],
 "metadata": {
  "kernelspec": {
   "display_name": "Python 3",
   "language": "python",
   "name": "python3"
  },
  "language_info": {
   "codemirror_mode": {
    "name": "ipython",
    "version": 3
   },
   "file_extension": ".py",
   "mimetype": "text/x-python",
   "name": "python",
   "nbconvert_exporter": "python",
   "pygments_lexer": "ipython3",
   "version": "3.7.6"
  }
 },
 "nbformat": 4,
 "nbformat_minor": 4
}
