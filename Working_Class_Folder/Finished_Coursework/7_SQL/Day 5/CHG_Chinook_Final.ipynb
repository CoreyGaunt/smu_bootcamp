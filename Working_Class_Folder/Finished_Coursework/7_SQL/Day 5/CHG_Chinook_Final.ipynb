{
 "cells": [
  {
   "cell_type": "code",
   "execution_count": 1,
   "metadata": {
    "deletable": false,
    "editable": false,
    "nbgrader": {
     "checksum": "9d602cf93c40f5e5ca32dfddb188a893",
     "grade": false,
     "grade_id": "cell-ce43e917c058e1e6",
     "locked": true,
     "schema_version": 1,
     "solution": false
    }
   },
   "outputs": [],
   "source": [
    "# Ignore SQLITE warnings related to Decimal numbers in the Chinook database\n",
    "import warnings\n",
    "warnings.filterwarnings('ignore')"
   ]
  },
  {
   "cell_type": "code",
   "execution_count": 2,
   "metadata": {
    "deletable": false,
    "nbgrader": {
     "checksum": "cad959afc6f3e2fe3e5c799304133d7b",
     "grade": false,
     "grade_id": "cell-5a901ed15fb6e525",
     "locked": false,
     "schema_version": 1,
     "solution": true
    }
   },
   "outputs": [],
   "source": [
    "# Import Dependencies\n",
    "import sqlalchemy\n",
    "from sqlalchemy.ext.automap import automap_base\n",
    "from sqlalchemy.orm import Session\n",
    "from sqlalchemy import create_engine, inspect"
   ]
  },
  {
   "cell_type": "code",
   "execution_count": 8,
   "metadata": {
    "deletable": false,
    "nbgrader": {
     "checksum": "2cb8870d53a9518f160a8520699b0b46",
     "grade": false,
     "grade_id": "cell-3061988562b57cdd",
     "locked": false,
     "schema_version": 1,
     "solution": true
    }
   },
   "outputs": [],
   "source": [
    "# Create an engine for the chinook.sqlite database\n",
    "engine = create_engine('sqlite:///Resources/chinook.sqlite')\n"
   ]
  },
  {
   "cell_type": "code",
   "execution_count": 9,
   "metadata": {
    "deletable": false,
    "nbgrader": {
     "checksum": "adbea09ccfc57033c747ec7155126700",
     "grade": false,
     "grade_id": "cell-96fcd4f8590fa08d",
     "locked": false,
     "schema_version": 1,
     "solution": true
    }
   },
   "outputs": [],
   "source": [
    "# Reflect Database into ORM classes\n",
    "Base = automap_base()\n",
    "Base.prepare(engine, reflect=True)"
   ]
  },
  {
   "cell_type": "code",
   "execution_count": 10,
   "metadata": {},
   "outputs": [
    {
     "data": {
      "text/plain": [
       "['albums',\n",
       " 'artists',\n",
       " 'customers',\n",
       " 'employees',\n",
       " 'genres',\n",
       " 'invoice_items',\n",
       " 'invoices',\n",
       " 'tracks',\n",
       " 'media_types',\n",
       " 'playlists']"
      ]
     },
     "execution_count": 10,
     "metadata": {},
     "output_type": "execute_result"
    }
   ],
   "source": [
    "Base.classes.keys()"
   ]
  },
  {
   "cell_type": "code",
   "execution_count": 11,
   "metadata": {
    "deletable": false,
    "nbgrader": {
     "checksum": "f2f9e57aeefe3280d2f9a8398766ae1b",
     "grade": false,
     "grade_id": "cell-b94d91b48824b4bd",
     "locked": false,
     "schema_version": 1,
     "solution": true
    }
   },
   "outputs": [],
   "source": [
    "# Save a reference to the invoices table as `Invoices`\n",
    "Invoices = Base.classes.invoices\n"
   ]
  },
  {
   "cell_type": "code",
   "execution_count": 12,
   "metadata": {
    "deletable": false,
    "nbgrader": {
     "checksum": "9d4fecd952331e0d9a0320d129637ac9",
     "grade": false,
     "grade_id": "cell-691d1378e207458c",
     "locked": false,
     "schema_version": 1,
     "solution": true
    }
   },
   "outputs": [],
   "source": [
    "# Create a database session object\n",
    "session = Session(engine)\n"
   ]
  },
  {
   "cell_type": "code",
   "execution_count": 15,
   "metadata": {},
   "outputs": [
    {
     "data": {
      "text/plain": [
       "{'_sa_instance_state': <sqlalchemy.orm.state.InstanceState at 0x173e1d3ab08>,\n",
       " 'InvoiceId': 1,\n",
       " 'InvoiceDate': datetime.datetime(2009, 1, 1, 0, 0),\n",
       " 'BillingCity': 'Stuttgart',\n",
       " 'BillingCountry': 'Germany',\n",
       " 'BillingPostalCode': '70174',\n",
       " 'CustomerId': 2,\n",
       " 'BillingAddress': 'Theodor-Heuss-Straße 34',\n",
       " 'BillingState': None,\n",
       " 'Total': Decimal('1.98')}"
      ]
     },
     "execution_count": 15,
     "metadata": {},
     "output_type": "execute_result"
    }
   ],
   "source": [
    "first_row = session.query(Invoices).first()\n",
    "first_row.__dict__"
   ]
  },
  {
   "cell_type": "code",
   "execution_count": 36,
   "metadata": {
    "deletable": false,
    "nbgrader": {
     "checksum": "04b37f5699e715835e87bdfeaf17b146",
     "grade": false,
     "grade_id": "cell-88cce17ddb8934fb",
     "locked": false,
     "schema_version": 1,
     "solution": true
    }
   },
   "outputs": [
    {
     "data": {
      "text/plain": [
       "[('Germany'),\n",
       " ('Norway'),\n",
       " ('Belgium'),\n",
       " ('Canada'),\n",
       " ('USA'),\n",
       " ('France'),\n",
       " ('Ireland'),\n",
       " ('United Kingdom'),\n",
       " ('Australia'),\n",
       " ('Chile'),\n",
       " ('India'),\n",
       " ('Brazil'),\n",
       " ('Portugal'),\n",
       " ('Netherlands'),\n",
       " ('Spain'),\n",
       " ('Sweden'),\n",
       " ('Czech Republic'),\n",
       " ('Finland'),\n",
       " ('Denmark'),\n",
       " ('Italy'),\n",
       " ('Poland'),\n",
       " ('Austria'),\n",
       " ('Hungary'),\n",
       " ('Argentina')]"
      ]
     },
     "execution_count": 36,
     "metadata": {},
     "output_type": "execute_result"
    }
   ],
   "source": [
    "# List all of the countries found in the invoices table\n",
    "session.query(Invoices.BillingCountry).distinct().all()"
   ]
  },
  {
   "cell_type": "code",
   "execution_count": 43,
   "metadata": {
    "deletable": false,
    "nbgrader": {
     "checksum": "bcf5656ccaf5b175d104f4bbd2b4dd6b",
     "grade": false,
     "grade_id": "cell-4feed124c0f54f43",
     "locked": false,
     "schema_version": 1,
     "solution": true
    }
   },
   "outputs": [
    {
     "data": {
      "text/plain": [
       "[('USA', Decimal('523.06')),\n",
       " ('Canada', Decimal('303.96')),\n",
       " ('France', Decimal('195.10')),\n",
       " ('Brazil', Decimal('190.10')),\n",
       " ('Germany', Decimal('156.48')),\n",
       " ('United Kingdom', Decimal('112.86')),\n",
       " ('Czech Republic', Decimal('90.24')),\n",
       " ('Portugal', Decimal('77.24')),\n",
       " ('India', Decimal('75.26')),\n",
       " ('Chile', Decimal('46.62')),\n",
       " ('Ireland', Decimal('45.62')),\n",
       " ('Hungary', Decimal('45.62')),\n",
       " ('Austria', Decimal('42.62')),\n",
       " ('Finland', Decimal('41.62')),\n",
       " ('Netherlands', Decimal('40.62')),\n",
       " ('Norway', Decimal('39.62')),\n",
       " ('Sweden', Decimal('38.62')),\n",
       " ('Poland', Decimal('37.62')),\n",
       " ('Italy', Decimal('37.62')),\n",
       " ('Denmark', Decimal('37.62')),\n",
       " ('Australia', Decimal('37.62')),\n",
       " ('Argentina', Decimal('37.62')),\n",
       " ('Spain', Decimal('37.62')),\n",
       " ('Belgium', Decimal('37.62'))]"
      ]
     },
     "execution_count": 43,
     "metadata": {},
     "output_type": "execute_result"
    }
   ],
   "source": [
    "# Design a query that lists the invoices totals for each billing country \n",
    "# and sort the output in descending order.\n",
    "session.query(Invoices.BillingCountry, func.sum(Invoices.Total)).\\\n",
    "    group_by(Invoices.BillingCountry).\\\n",
    "    order_by(func.sum(Invoices.Total).desc()).all()"
   ]
  },
  {
   "cell_type": "code",
   "execution_count": 46,
   "metadata": {
    "deletable": false,
    "nbgrader": {
     "checksum": "ce836218c36115d86ac0556cae44b4f1",
     "grade": false,
     "grade_id": "cell-e9cdc46eb1a16b7b",
     "locked": false,
     "schema_version": 1,
     "solution": true
    }
   },
   "outputs": [
    {
     "data": {
      "text/plain": [
       "{'_sa_instance_state': <sqlalchemy.orm.state.InstanceState at 0x173e1e4b748>,\n",
       " 'TrackId': 2,\n",
       " 'InvoiceId': 1,\n",
       " 'InvoiceLineId': 1,\n",
       " 'Quantity': 1,\n",
       " 'UnitPrice': Decimal('0.99')}"
      ]
     },
     "execution_count": 46,
     "metadata": {},
     "output_type": "execute_result"
    }
   ],
   "source": [
    "# Save a reference to the invoice_items table as `Items`\n",
    "\n",
    "Items = Base.classes.invoice_items\n",
    "\n",
    "first_row2 = session.query(Items).first()\n",
    "first_row2.__dict__"
   ]
  },
  {
   "cell_type": "code",
   "execution_count": 55,
   "metadata": {
    "deletable": false,
    "nbgrader": {
     "checksum": "e4300624c55fd732893cd80f6cea454d",
     "grade": false,
     "grade_id": "cell-0a9629333439cef4",
     "locked": false,
     "schema_version": 1,
     "solution": true
    }
   },
   "outputs": [
    {
     "data": {
      "text/plain": [
       "[('2113', 'USA'),\n",
       " ('94043-1351', 'USA'),\n",
       " ('98052-8300', 'USA'),\n",
       " ('95014', 'USA'),\n",
       " ('89503', 'USA'),\n",
       " ('53703', 'USA'),\n",
       " ('95014', 'USA'),\n",
       " ('98052-8300', 'USA'),\n",
       " ('89503', 'USA'),\n",
       " ('85719', 'USA'),\n",
       " ('98052-8300', 'USA'),\n",
       " ('2113', 'USA'),\n",
       " ('53703', 'USA'),\n",
       " ('76110', 'USA'),\n",
       " ('84102', 'USA'),\n",
       " ('95014', 'USA'),\n",
       " ('84102', 'USA'),\n",
       " ('89503', 'USA'),\n",
       " ('32801', 'USA'),\n",
       " ('60611', 'USA'),\n",
       " ('76110', 'USA'),\n",
       " ('60611', 'USA'),\n",
       " ('98052-8300', 'USA'),\n",
       " ('10012-2612', 'USA'),\n",
       " ('94040-111', 'USA'),\n",
       " ('32801', 'USA'),\n",
       " ('76110', 'USA'),\n",
       " ('94040-111', 'USA'),\n",
       " ('94043-1351', 'USA'),\n",
       " ('10012-2612', 'USA'),\n",
       " ('32801', 'USA'),\n",
       " ('84102', 'USA'),\n",
       " ('94043-1351', 'USA'),\n",
       " ('10012-2612', 'USA'),\n",
       " ('60611', 'USA'),\n",
       " ('76110', 'USA'),\n",
       " ('85719', 'USA'),\n",
       " ('94040-111', 'USA'),\n",
       " ('32801', 'USA'),\n",
       " ('2113', 'USA'),\n",
       " ('53703', 'USA'),\n",
       " ('85719', 'USA'),\n",
       " ('94043-1351', 'USA'),\n",
       " ('53703', 'USA'),\n",
       " ('10012-2612', 'USA'),\n",
       " ('95014', 'USA'),\n",
       " ('89503', 'USA'),\n",
       " ('2113', 'USA'),\n",
       " ('85719', 'USA'),\n",
       " ('89503', 'USA'),\n",
       " ('98052-8300', 'USA'),\n",
       " ('95014', 'USA'),\n",
       " ('2113', 'USA'),\n",
       " ('98052-8300', 'USA'),\n",
       " ('95014', 'USA'),\n",
       " ('53703', 'USA'),\n",
       " ('85719', 'USA'),\n",
       " ('84102', 'USA'),\n",
       " ('89503', 'USA'),\n",
       " ('2113', 'USA'),\n",
       " ('60611', 'USA'),\n",
       " ('76110', 'USA'),\n",
       " ('84102', 'USA'),\n",
       " ('98052-8300', 'USA'),\n",
       " ('76110', 'USA'),\n",
       " ('95014', 'USA'),\n",
       " ('94040-111', 'USA'),\n",
       " ('32801', 'USA'),\n",
       " ('60611', 'USA'),\n",
       " ('84102', 'USA'),\n",
       " ('32801', 'USA'),\n",
       " ('94043-1351', 'USA'),\n",
       " ('10012-2612', 'USA'),\n",
       " ('94040-111', 'USA'),\n",
       " ('60611', 'USA'),\n",
       " ('10012-2612', 'USA'),\n",
       " ('94043-1351', 'USA'),\n",
       " ('94040-111', 'USA'),\n",
       " ('76110', 'USA'),\n",
       " ('84102', 'USA'),\n",
       " ('94043-1351', 'USA'),\n",
       " ('32801', 'USA'),\n",
       " ('60611', 'USA'),\n",
       " ('53703', 'USA'),\n",
       " ('85719', 'USA'),\n",
       " ('10012-2612', 'USA'),\n",
       " ('85719', 'USA'),\n",
       " ('94040-111', 'USA'),\n",
       " ('89503', 'USA'),\n",
       " ('2113', 'USA'),\n",
       " ('53703', 'USA')]"
      ]
     },
     "execution_count": 55,
     "metadata": {},
     "output_type": "execute_result"
    }
   ],
   "source": [
    "# List all of the Billing Postal Codes for the USA.\n",
    "session.query(Invoices.BillingPostalCode,Invoices.BillingCountry).\\\n",
    "    filter(Invoices.BillingCountry == 'USA')..distall()\n"
   ]
  },
  {
   "cell_type": "code",
   "execution_count": 51,
   "metadata": {
    "deletable": false,
    "nbgrader": {
     "checksum": "7d7750334aa78f3613176da2c4563e81",
     "grade": false,
     "grade_id": "cell-a2cbfd30ace44821",
     "locked": false,
     "schema_version": 1,
     "solution": true
    }
   },
   "outputs": [],
   "source": [
    "# Calculate the Item Totals (sum(UnitPrice * Quantity)) for the USA\n",
    "# YOUR CODE HERE\n"
   ]
  },
  {
   "cell_type": "code",
   "execution_count": 52,
   "metadata": {
    "deletable": false,
    "nbgrader": {
     "checksum": "8fcc1cf686ccc8f054a06bb19e3bfa22",
     "grade": false,
     "grade_id": "cell-04614f479d1ab21b",
     "locked": false,
     "schema_version": 1,
     "solution": true
    }
   },
   "outputs": [],
   "source": [
    "# Calculate the Item Totals `sum(UnitPrice * Quantity)` for each Billing Postal Code in the USA\n",
    "# Sort the results in descending order by Total\n",
    "# YOUR CODE HERE\n"
   ]
  },
  {
   "cell_type": "code",
   "execution_count": null,
   "metadata": {},
   "outputs": [],
   "source": []
  },
  {
   "cell_type": "code",
   "execution_count": null,
   "metadata": {},
   "outputs": [],
   "source": []
  }
 ],
 "metadata": {
  "kernelspec": {
   "display_name": "Python 3",
   "language": "python",
   "name": "python3"
  },
  "language_info": {
   "codemirror_mode": {
    "name": "ipython",
    "version": 3
   },
   "file_extension": ".py",
   "mimetype": "text/x-python",
   "name": "python",
   "nbconvert_exporter": "python",
   "pygments_lexer": "ipython3",
   "version": "3.7.6"
  },
  "varInspector": {
   "cols": {
    "lenName": 16,
    "lenType": 16,
    "lenVar": 40
   },
   "kernels_config": {
    "python": {
     "delete_cmd_postfix": "",
     "delete_cmd_prefix": "del ",
     "library": "var_list.py",
     "varRefreshCmd": "print(var_dic_list())"
    },
    "r": {
     "delete_cmd_postfix": ") ",
     "delete_cmd_prefix": "rm(",
     "library": "var_list.r",
     "varRefreshCmd": "cat(var_dic_list()) "
    }
   },
   "types_to_exclude": [
    "module",
    "function",
    "builtin_function_or_method",
    "instance",
    "_Feature"
   ],
   "window_display": false
  }
 },
 "nbformat": 4,
 "nbformat_minor": 2
}
