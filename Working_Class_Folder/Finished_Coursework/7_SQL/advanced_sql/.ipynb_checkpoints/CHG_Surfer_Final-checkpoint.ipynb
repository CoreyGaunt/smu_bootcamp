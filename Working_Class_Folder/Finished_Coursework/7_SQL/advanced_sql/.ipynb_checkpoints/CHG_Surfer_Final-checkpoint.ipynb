{
 "cells": [
  {
   "cell_type": "code",
   "execution_count": 27,
   "metadata": {},
   "outputs": [],
   "source": [
    "# Define the Surfer Class\n",
    "class Surfer():\n",
    "    def __init__(self,name,hometown,rank,wipeouts):\n",
    "        self.name = name\n",
    "        self.hometown = hometown\n",
    "        self.rank = rank\n",
    "        self.wipeouts = wipeouts\n",
    "    def speak():\n",
    "        print(\"Hang loose, bruh!\")\n",
    "    def biography(self,obj):\n",
    "        print(\"The surfer's name is\", obj.name)\n",
    "        print(\"And the surfer is from\", obj.hometown)\n",
    "    def cheer(self,obj):\n",
    "        if self.wipeouts == '0':\n",
    "            print('I totally rock man, no wipeouts!')\n",
    "        else:\n",
    "            print('Bummer bruh, keep on keeping on!')\n",
    "        \n",
    "    "
   ]
  },
  {
   "cell_type": "code",
   "execution_count": 28,
   "metadata": {},
   "outputs": [],
   "source": [
    "# Create an instance of the Surfer Class\n",
    "surfer = Surfer('Corey','Dallas','1','0')\n",
    "surfer2 = Surfer('Savannah','Emory','2','1')"
   ]
  },
  {
   "cell_type": "code",
   "execution_count": 20,
   "metadata": {},
   "outputs": [
    {
     "name": "stdout",
     "output_type": "stream",
     "text": [
      "Corey\n",
      "Dallas\n",
      "1\n",
      "0\n"
     ]
    }
   ],
   "source": [
    "# Print the object's attributes\n",
    "print(surfer.name)\n",
    "print(surfer.hometown)\n",
    "print(surfer.rank)\n",
    "print(surfer.wipeouts)"
   ]
  },
  {
   "cell_type": "code",
   "execution_count": 5,
   "metadata": {},
   "outputs": [
    {
     "name": "stdout",
     "output_type": "stream",
     "text": [
      "Continue? (Y/N): y\n",
      "What is the surfer's name?: corey\n",
      "Where city/town is the surfer from?: dallas\n",
      "What is the surfer's rank?: 1\n",
      "corey\n",
      "dallas\n",
      "1\n",
      "Continue? (Y/N): n\n"
     ]
    }
   ],
   "source": [
    "# ----BONUS----\n",
    "# Variable to keep track of changes to while loop\n",
    "response = input('Continue? (Y/N): ')\n",
    "\n",
    "while response == 'y':\n",
    "    name = input(\"What is the surfer's name?: \")\n",
    "    hometown = input(\"Where city/town is the surfer from?: \")\n",
    "    rank = input(\"What is the surfer's rank?: \")\n",
    "    user_surfer = Surfer(name,hometown,rank)\n",
    "    print(user_surfer.name)\n",
    "    print(user_surfer.hometown)\n",
    "    print(user_surfer.rank)\n",
    "    response = input('Continue? (Y/N): ')"
   ]
  },
  {
   "cell_type": "code",
   "execution_count": 29,
   "metadata": {},
   "outputs": [
    {
     "name": "stdout",
     "output_type": "stream",
     "text": [
      "Hang loose, bruh!\n"
     ]
    }
   ],
   "source": [
    "Surfer.speak()"
   ]
  },
  {
   "cell_type": "code",
   "execution_count": 30,
   "metadata": {},
   "outputs": [
    {
     "name": "stdout",
     "output_type": "stream",
     "text": [
      "The surfer's name is Corey\n",
      "And the surfer is from Dallas\n"
     ]
    }
   ],
   "source": [
    "surfer.biography(surfer)"
   ]
  },
  {
   "cell_type": "code",
   "execution_count": 34,
   "metadata": {},
   "outputs": [
    {
     "name": "stdout",
     "output_type": "stream",
     "text": [
      "I totally rock man, no wipeouts!\n"
     ]
    }
   ],
   "source": [
    "surfer.cheer(surfer)"
   ]
  },
  {
   "cell_type": "code",
   "execution_count": 32,
   "metadata": {},
   "outputs": [
    {
     "name": "stdout",
     "output_type": "stream",
     "text": [
      "I totally rock man, no wipeouts!\n"
     ]
    }
   ],
   "source": [
    "surfer.cheer(surfer2)"
   ]
  },
  {
   "cell_type": "code",
   "execution_count": null,
   "metadata": {},
   "outputs": [],
   "source": []
  }
 ],
 "metadata": {
  "kernelspec": {
   "display_name": "Python 3",
   "language": "python",
   "name": "python3"
  },
  "language_info": {
   "codemirror_mode": {
    "name": "ipython",
    "version": 3
   },
   "file_extension": ".py",
   "mimetype": "text/x-python",
   "name": "python",
   "nbconvert_exporter": "python",
   "pygments_lexer": "ipython3",
   "version": "3.7.6"
  },
  "varInspector": {
   "cols": {
    "lenName": 16,
    "lenType": 16,
    "lenVar": 40
   },
   "kernels_config": {
    "python": {
     "delete_cmd_postfix": "",
     "delete_cmd_prefix": "del ",
     "library": "var_list.py",
     "varRefreshCmd": "print(var_dic_list())"
    },
    "r": {
     "delete_cmd_postfix": ") ",
     "delete_cmd_prefix": "rm(",
     "library": "var_list.r",
     "varRefreshCmd": "cat(var_dic_list()) "
    }
   },
   "types_to_exclude": [
    "module",
    "function",
    "builtin_function_or_method",
    "instance",
    "_Feature"
   ],
   "window_display": false
  }
 },
 "nbformat": 4,
 "nbformat_minor": 2
}
