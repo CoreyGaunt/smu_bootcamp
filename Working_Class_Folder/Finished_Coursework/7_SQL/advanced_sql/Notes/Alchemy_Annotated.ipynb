{
 "cells": [
  {
   "cell_type": "code",
   "execution_count": 10,
   "metadata": {},
   "outputs": [],
   "source": [
    "# Dependencies\n",
    "# ----------------------------------\n",
    "'''As with most Python code that uses external libraries, the first step is to import in the modules desired.\n",
    "\n",
    "create_engine allows SQLAlchemy to create connections to SQL databases.\n",
    "\n",
    "declarative_base allows SQLAlchemy to convert the classes created in Python to SQL tables.\n",
    "\n",
    "The different datatypes used in SQL must also be imported into Python from SQLAlchemy. \n",
    "These datatypes are then used when creating class fields so as to state what datatypes \n",
    "each column in the SQL table should contain.\n",
    "\n",
    "'''\n",
    "# Imports the method used for connecting to DBs\n",
    "from sqlalchemy import create_engine\n",
    "\n",
    "# Imports the methods needed to abstract classes into tables\n",
    "from sqlalchemy.ext.declarative import declarative_base\n",
    "\n",
    "# Allow us to declare column types\n",
    "from sqlalchemy import Column, Integer, String, Float "
   ]
  },
  {
   "cell_type": "code",
   "execution_count": 11,
   "metadata": {},
   "outputs": [],
   "source": [
    "# Create Dog and Cat Classes\n",
    "# ----------------------------------\n",
    "'''The classes created using SQLAlchemy's \"Base\" class will serve as the anchor points for SQL tables.\n",
    "\n",
    "When creating classes to be used with SQLAlchemy, a __tablename__ field must be declared and provided\n",
    "with the name of a table. If the table exists, any new objects created will be added into the existing table. \n",
    "If the table does not yet exist, a new table will be created based upon the class' fields.\n",
    "\n",
    "Each field of a SQLAlchemy class must be declared as a column and the datatype of the field must also be provided.\n",
    "\n",
    "A primary key can also be set by using the primary_key value and setting it to either True or False.'''\n",
    "# Sets an object to utilize the default declarative base in SQL Alchemy\n",
    "Base = declarative_base()\n",
    "\n",
    "\n",
    "# Creates Classes which will serve as the anchor points for our Tables\n",
    "class Dog(Base):\n",
    "    __tablename__ = 'dog'\n",
    "    id = Column(Integer, primary_key=True)\n",
    "    name = Column(String(255))\n",
    "    color = Column(String(255))\n",
    "    age = Column(Integer)\n",
    "\n",
    "\n",
    "class Cat(Base):\n",
    "    __tablename__ = 'cat'\n",
    "    id = Column(Integer, primary_key=True)\n",
    "    name = Column(String(255))\n",
    "    color = Column(String(255))\n",
    "    age = Column(Integer)"
   ]
  },
  {
   "cell_type": "code",
   "execution_count": 12,
   "metadata": {},
   "outputs": [],
   "source": [
    "# Create a Specific Instance of the Dog and Cat classes\n",
    "# ----------------------------------\n",
    "'''Creating instances of SQLAlchemy classes functions almost identically to creating regular Python objects. \n",
    "It is not necessary to declare fields explicitly within the constructor but this is common practice.\n",
    "\n",
    "'''\n",
    "\n",
    "# Calls the Pet Constructors to create \"Dog\" and \"Cat\" objets\n",
    "dog = Dog(name='Lilly', color='Pink', age=14)\n",
    "cat = Cat(name=\"Celia\", color=\"White\", age=5)"
   ]
  },
  {
   "cell_type": "code",
   "execution_count": 13,
   "metadata": {},
   "outputs": [],
   "source": [
    "# Create Database Connection\n",
    "# ----------------------------------\n",
    "'''After the SQLAlchemy classes have been made, they can be created on the SQL database by creating\n",
    "a connection engine and then calling Base.metadata.create_all(engine)\n",
    "\n",
    "The create_all looks through the Python script and checks if the classes declared exist within the \n",
    "database being connected to. If they do not yet exist, the tables will be created at this time.'''\n",
    "# Creates a connection to our DB\n",
    "engine = create_engine(\"sqlite:///pets.sqlite\")\n",
    "conn = engine.connect()"
   ]
  },
  {
   "cell_type": "code",
   "execution_count": 14,
   "metadata": {},
   "outputs": [],
   "source": [
    "# Create a \"Metadata\" Layer That Abstracts our SQL Database\n",
    "# ----------------------------------\n",
    "# Create (if not already in existence) the tables associated with our classes.\n",
    "Base.metadata.create_all(engine)\n",
    "\n",
    "# Use this to clear out the db\n",
    "# ----------------------------------\n",
    "# Base.metadata.drop_all(engine)"
   ]
  },
  {
   "cell_type": "code",
   "execution_count": 15,
   "metadata": {},
   "outputs": [],
   "source": [
    "# Create a Session Object to Connect to DB\n",
    "# ----------------------------------\n",
    "'''SQLAlchemy functions much like Git does in how new rows of data can be added/changed within a SQL table.\n",
    "\n",
    "A SQLAlchemy session is created using the Session module and bound to the connection engine.\n",
    "\n",
    "New rows of data can then be staged by creating a new instance of a SQLAlchemy class and\n",
    "passing them into session.add() as a parameter.\n",
    "\n",
    "When all of the changes desired have been made, simply use session.commit() to push them up to the database.'''\n",
    "\n",
    "# Session is a temporary binding to our DB\n",
    "from sqlalchemy.orm import Session\n",
    "session = Session(bind=engine)"
   ]
  },
  {
   "cell_type": "code",
   "execution_count": 16,
   "metadata": {},
   "outputs": [],
   "source": [
    "# Add Records to the Appropriate DB\n",
    "# ----------------------------------\n",
    "# Use the SQL ALchemy methods to run simple \"INSERT\" statements using the classes and objects  \n",
    "session.add(dog)\n",
    "session.add(cat)\n",
    "session.commit()"
   ]
  },
  {
   "cell_type": "code",
   "execution_count": 17,
   "metadata": {},
   "outputs": [
    {
     "name": "stdout",
     "output_type": "stream",
     "text": [
      "Fido\n",
      "Rex\n",
      "Rex\n",
      "Rex\n",
      "Lilly\n"
     ]
    }
   ],
   "source": [
    "# Query the Tables\n",
    "# ----------------------------------\n",
    "'''Run through the code as many times as needed so as to ensure that the class fully \n",
    "understands how to use SQLAlchemy to add new data/tables to a SQL database.\n",
    "\n",
    "Feel free to point out how simple it is to collect all of the data from a SQL table using SQLAlchemy as well.\n",
    "\n",
    "Simply use session.query() and pass the class/table to query in as a parameter. \n",
    "The returned data can then be looped through and printed to the terminal.'''\n",
    "# Perform a simple query of the database\n",
    "dog_list = session.query(Dog)\n",
    "for doggy in dog_list:\n",
    "    print(doggy.name)"
   ]
  },
  {
   "cell_type": "code",
   "execution_count": 18,
   "metadata": {},
   "outputs": [
    {
     "name": "stdout",
     "output_type": "stream",
     "text": [
      "Whiskers\n",
      "Felix\n",
      "Felix\n",
      "Felix\n",
      "Celia\n"
     ]
    }
   ],
   "source": [
    "cat_list = session.query(Cat)\n",
    "for kitty in cat_list:\n",
    "    print(kitty.name)"
   ]
  },
  {
   "cell_type": "code",
   "execution_count": null,
   "metadata": {},
   "outputs": [],
   "source": []
  }
 ],
 "metadata": {
  "kernelspec": {
   "display_name": "Python 3",
   "language": "python",
   "name": "python3"
  },
  "language_info": {
   "codemirror_mode": {
    "name": "ipython",
    "version": 3
   },
   "file_extension": ".py",
   "mimetype": "text/x-python",
   "name": "python",
   "nbconvert_exporter": "python",
   "pygments_lexer": "ipython3",
   "version": "3.7.6"
  },
  "varInspector": {
   "cols": {
    "lenName": 16,
    "lenType": 16,
    "lenVar": 40
   },
   "kernels_config": {
    "python": {
     "delete_cmd_postfix": "",
     "delete_cmd_prefix": "del ",
     "library": "var_list.py",
     "varRefreshCmd": "print(var_dic_list())"
    },
    "r": {
     "delete_cmd_postfix": ") ",
     "delete_cmd_prefix": "rm(",
     "library": "var_list.r",
     "varRefreshCmd": "cat(var_dic_list()) "
    }
   },
   "types_to_exclude": [
    "module",
    "function",
    "builtin_function_or_method",
    "instance",
    "_Feature"
   ],
   "window_display": false
  }
 },
 "nbformat": 4,
 "nbformat_minor": 2
}
