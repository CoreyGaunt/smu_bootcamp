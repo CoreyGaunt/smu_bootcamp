{
 "cells": [
  {
   "cell_type": "code",
   "execution_count": 3,
   "metadata": {},
   "outputs": [
    {
     "name": "stdout",
     "output_type": "stream",
     "text": [
      "Hello User!\n",
      "\n",
      "What is your name? Corey Gaunt\n",
      "\n",
      "Hello Corey Gaunt\n",
      "\n",
      "What's your age? 27\n",
      "\n",
      "Awwww... you're just a baby!\n"
     ]
    }
   ],
   "source": [
    "print(\"Hello User!\")\n",
    "print(\"\")\n",
    "user_name = input(\"What is your name? \")\n",
    "print(\"\")\n",
    "\n",
    "print(f\"Hello {user_name}\")\n",
    "print(\"\")\n",
    "\n",
    "user_age = int(input(\"What's your age? \"))\n",
    "print(\"\")\n",
    "\n",
    "if user_age >= 50:\n",
    "    print(\"Ah... a well traveled soul are ye\")\n",
    "else:\n",
    "    print(\"Awwww... you're just a baby!\")"
   ]
  }
 ],
 "metadata": {
  "kernelspec": {
   "display_name": "Python 3",
   "language": "python",
   "name": "python3"
  },
  "language_info": {
   "codemirror_mode": {
    "name": "ipython",
    "version": 3
   },
   "file_extension": ".py",
   "mimetype": "text/x-python",
   "name": "python",
   "nbconvert_exporter": "python",
   "pygments_lexer": "ipython3",
   "version": "3.7.6"
  }
 },
 "nbformat": 4,
 "nbformat_minor": 4
}
