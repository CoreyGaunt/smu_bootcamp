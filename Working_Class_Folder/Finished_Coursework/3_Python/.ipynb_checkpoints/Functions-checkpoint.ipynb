{
 "cells": [
  {
   "cell_type": "code",
   "execution_count": 12,
   "metadata": {},
   "outputs": [
    {
     "name": "stdout",
     "output_type": "stream",
     "text": [
      "Hello World!\n"
     ]
    }
   ],
   "source": [
    "# Writing functions is how we create standalone blocks of code in Python\n",
    "\n",
    "def print_hello():\n",
    "    print(\"Hello World!\")\n",
    "print_hello()  "
   ]
  },
  {
   "cell_type": "code",
   "execution_count": 13,
   "metadata": {},
   "outputs": [
    {
     "name": "stdout",
     "output_type": "stream",
     "text": [
      "Hello Corey\n"
     ]
    }
   ],
   "source": [
    "def print_helloname(name):\n",
    "    print(f'Hello {name}')\n",
    "    \n",
    "print_helloname(\"Corey\")"
   ]
  },
  {
   "cell_type": "code",
   "execution_count": 14,
   "metadata": {},
   "outputs": [],
   "source": [
    "# DRY - Don't Repeat Yourself\n",
    "# This is a principle in software development to reduce repetition in the written code\n",
    "#\n",
    "# Avoid writing multiple blocks of code if they are accomplishing the same thing?"
   ]
  },
  {
   "cell_type": "code",
   "execution_count": 23,
   "metadata": {},
   "outputs": [
    {
     "name": "stdout",
     "output_type": "stream",
     "text": [
      "the values in the written list are: \n",
      "[11, 12, 13, 14, 15]\n",
      "the length of this list is.. 5\n",
      "the values in the written list are: \n",
      "[1, 2, 3, 4, 5, 6, 7, 8, 9, 10]\n",
      "the length of this list is.. 10\n"
     ]
    }
   ],
   "source": [
    "listOne = [1,2,3,4,5,6,7,8,9,10]\n",
    "listTwo = [11,12,13,14,15]\n",
    "\n",
    "\n",
    "\n",
    "def list_information(ListDataType):\n",
    "    string = []\n",
    "    print(f\"the values in the written list are: \")\n",
    "    for value in ListDataType:\n",
    "        string.append(value)\n",
    "    print(string)\n",
    "    print(f\"the length of this list is.. \" + str(len(ListDataType)))\n",
    "    \n",
    "list_information(listTwo)\n",
    "list_information(listOne)"
   ]
  },
  {
   "cell_type": "code",
   "execution_count": 25,
   "metadata": {},
   "outputs": [
    {
     "name": "stdout",
     "output_type": "stream",
     "text": [
      "4\n"
     ]
    }
   ],
   "source": [
    "def square(number):\n",
    "    return number * number\n",
    "\n",
    "squared = square(2)\n",
    "print(squared)"
   ]
  },
  {
   "cell_type": "code",
   "execution_count": null,
   "metadata": {},
   "outputs": [],
   "source": []
  }
 ],
 "metadata": {
  "kernelspec": {
   "display_name": "Python 3",
   "language": "python",
   "name": "python3"
  },
  "language_info": {
   "codemirror_mode": {
    "name": "ipython",
    "version": 3
   },
   "file_extension": ".py",
   "mimetype": "text/x-python",
   "name": "python",
   "nbconvert_exporter": "python",
   "pygments_lexer": "ipython3",
   "version": "3.7.6"
  }
 },
 "nbformat": 4,
 "nbformat_minor": 4
}
