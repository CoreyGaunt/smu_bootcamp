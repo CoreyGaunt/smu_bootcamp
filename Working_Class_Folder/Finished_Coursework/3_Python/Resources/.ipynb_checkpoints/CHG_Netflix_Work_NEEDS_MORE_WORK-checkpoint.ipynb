{
 "cells": [
  {
   "cell_type": "code",
   "execution_count": 6,
   "metadata": {},
   "outputs": [
    {
     "name": "stdout",
     "output_type": "stream",
     "text": [
      "What video are you looking for? White Chicks\n",
      "White Chicks is rated PG-13 with a rating of 82\n"
     ]
    }
   ],
   "source": [
    "import os\n",
    "import csv\n",
    "\n",
    "# This references the csv file we want to analyze\n",
    "file = os.path.join(\"..\",\"Resources\",\"netflix_ratings.csv\")\n",
    "\n",
    "# User input to ask which video they're looking for\n",
    "video = input(\"What video are you looking for? \")\n",
    "\n",
    "found = False\n",
    "\n",
    "# Opening the file, and enabling python to read it\n",
    "with open(file) as csvfile:\n",
    "    csvreader = csv.reader(csvfile, delimiter=',')\n",
    "\n",
    "# This code is saying - when looking at each row in the file\n",
    "# if the value under the first column [0] - matches the user input of 'Video'\n",
    "# print the following\n",
    "\n",
    "# This is important Corey, if you need to search for a user-input in a file, you HAVE to remember to set that input as a\n",
    "# variable\n",
    "\n",
    "    for row in csvreader:\n",
    "        if row[0] == video:\n",
    "            print(row[0] + \" is rated \" + row[1] + \" with a rating of \" + row[5])\n",
    "        \n",
    "# 0 = title, 1 = rating, etc.\n",
    "\n",
    "\n",
    "\n",
    "    "
   ]
  },
  {
   "cell_type": "code",
   "execution_count": null,
   "metadata": {},
   "outputs": [],
   "source": []
  },
  {
   "cell_type": "code",
   "execution_count": null,
   "metadata": {},
   "outputs": [],
   "source": []
  }
 ],
 "metadata": {
  "kernelspec": {
   "display_name": "Python 3",
   "language": "python",
   "name": "python3"
  },
  "language_info": {
   "codemirror_mode": {
    "name": "ipython",
    "version": 3
   },
   "file_extension": ".py",
   "mimetype": "text/x-python",
   "name": "python",
   "nbconvert_exporter": "python",
   "pygments_lexer": "ipython3",
   "version": "3.7.6"
  }
 },
 "nbformat": 4,
 "nbformat_minor": 4
}
