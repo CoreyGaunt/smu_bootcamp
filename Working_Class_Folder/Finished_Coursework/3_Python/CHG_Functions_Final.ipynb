{
 "cells": [
  {
   "cell_type": "code",
   "execution_count": 8,
   "metadata": {},
   "outputs": [
    {
     "name": "stdout",
     "output_type": "stream",
     "text": [
      " The average of your selected list is 119.1\n"
     ]
    }
   ],
   "source": [
    "listOne = [1,2,3,4,5,6,7,8,9,10]\n",
    "listTwo = [2,8,4,12,65,78,900,2,1]\n",
    "\n",
    "# Calculated the arithmetic mean by summing the list then dividing that number by the length of the list\n",
    "\n",
    "def average(list):\n",
    "    return sum(list) / len(list)\n",
    "\n",
    "# Set a variable equal to the function of the list in question\n",
    "# also added a round function for a cleaner number\n",
    "\n",
    "average_of_list = round(average(listTwo),1)\n",
    "\n",
    "# Call to print your result\n",
    "# NOTE - if you want to update the list you use, you must update the\n",
    "# average_of_list variable to match as well\n",
    "\n",
    "print(f' The average of your selected list is {average_of_list}')\n",
    "    \n",
    "        "
   ]
  },
  {
   "cell_type": "code",
   "execution_count": null,
   "metadata": {},
   "outputs": [],
   "source": []
  }
 ],
 "metadata": {
  "kernelspec": {
   "display_name": "Python 3",
   "language": "python",
   "name": "python3"
  },
  "language_info": {
   "codemirror_mode": {
    "name": "ipython",
    "version": 3
   },
   "file_extension": ".py",
   "mimetype": "text/x-python",
   "name": "python",
   "nbconvert_exporter": "python",
   "pygments_lexer": "ipython3",
   "version": "3.7.6"
  }
 },
 "nbformat": 4,
 "nbformat_minor": 4
}
