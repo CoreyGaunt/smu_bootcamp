{
 "cells": [
  {
   "cell_type": "code",
   "execution_count": null,
   "metadata": {},
   "outputs": [],
   "source": [
    "import pandas as pd\n",
    "import os\n",
    "import csv\n",
    "\n",
    "good_mv_file = os.path.join(\"Resources_1\", \"movie_scores.csv\")\n",
    "\n",
    "good_mv_df = pd.read_csv(good_mv_file,encoding=\"ISO-8859-1\")\n",
    "\n",
    "good_mv_df.head()\n",
    "\n"
   ]
  },
  {
   "cell_type": "code",
   "execution_count": null,
   "metadata": {},
   "outputs": [],
   "source": [
    "clean_movie_df = good_mv_df[[\"FILM\",\"IMDB\",\"IMDB_norm\",\"IMDB_norm_round\",\"IMDB_user_vote_count\"]]\n",
    "\n",
    "clean_movie_df.head()"
   ]
  },
  {
   "cell_type": "code",
   "execution_count": null,
   "metadata": {},
   "outputs": [],
   "source": [
    "good_movies_df = clean_movie_df.loc[clean_movie_df[\"IMDB\"] >= 7, :]\n",
    "\n",
    "good_movies_df.head()"
   ]
  },
  {
   "cell_type": "code",
   "execution_count": null,
   "metadata": {},
   "outputs": [],
   "source": [
    "indie_film_df = good_movies_df.loc[good_movies_df[\"IMDB_user_vote_count\"] < 20000, :]\n",
    "\n",
    "indie_film_df.head()\n",
    "\n",
    "indie_film_CLEANED_df = indie_film_df.rename(columns={\"FILM\":\"Film Name\",\n",
    "                                                     \"IMDB\":\"IMDB Rating\",\n",
    "                                                     \"IMDB_norm\":\"IMDB Rating Normalized\",\n",
    "                                                     \"IMDB_norm_round\":\"IMDB Normal Rating Rounded\",\n",
    "                                                     \"IMDB_user_vote_count\":\"Total User Ratings on IMDB\"})\n",
    "indie_film_CLEANED_df.head()"
   ]
  },
  {
   "cell_type": "code",
   "execution_count": null,
   "metadata": {},
   "outputs": [],
   "source": [
    "indie_film_CLEANED_df.to_csv(\"Resources_1/Summary_of_Top_Rated_IndieFilms_IMDB_AYYOOOOOOOOO.csv\", index=False, header=True)"
   ]
  },
  {
   "cell_type": "code",
   "execution_count": null,
   "metadata": {},
   "outputs": [],
   "source": []
  }
 ],
 "metadata": {
  "kernelspec": {
   "display_name": "Python 3",
   "language": "python",
   "name": "python3"
  },
  "language_info": {
   "codemirror_mode": {
    "name": "ipython",
    "version": 3
   },
   "file_extension": ".py",
   "mimetype": "text/x-python",
   "name": "python",
   "nbconvert_exporter": "python",
   "pygments_lexer": "ipython3",
   "version": "3.7.6"
  }
 },
 "nbformat": 4,
 "nbformat_minor": 4
}