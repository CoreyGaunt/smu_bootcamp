{
 "cells": [
  {
   "cell_type": "code",
   "execution_count": 3,
   "metadata": {},
   "outputs": [],
   "source": [
    "import os\n",
    "import csv\n",
    "\n",
    "# This references the csv file we want to analyze\n",
    "file = os.path.join(\"..\",\"Resources\",\"netflix_ratings.csv\")\n",
    "\n",
    "# User input to ask which video they're looking for\n",
    "#video = input(\"What video are you looking for? \")\n",
    "\n",
    "# found = False\n",
    "\n",
    "title = []\n",
    "rating = []\n",
    "rate_level = []\n",
    "rate_description = []\n",
    "\n",
    "# Opening the file, and enabling python to read it\n",
    "with open(file) as csvfile:\n",
    "    csvreader = csv.reader(csvfile, delimiter=',')\n",
    "\n",
    "# This code is saying - when looking at each row in the file\n",
    "# if the value under the first column [0] - matches the user input of 'Video'\n",
    "# print the following\n",
    "\n",
    "# This is important Corey, if you need to search for a user-input in a file, you HAVE to remember to set that input as a\n",
    "# variable\n",
    "\n",
    "   # for row in csvreader:\n",
    "    #    if row[0] == video:\n",
    "     #       print(row[0] + \" is rated \" + row[1] + \" with a rating of \" + row[5])\n",
    " # (0) title (1) rating (2) ratingLevel (3) ratingDescription (4) release year (5) user rating score (6) user rating size\n",
    "\n",
    "    for row in csvreader:\n",
    "        title.append(row[0])\n",
    "        rating.append(row[1])\n",
    "        rate_level.append(row[2])\n",
    "        rate_description.append(row[3])\n",
    "        \n",
    "    netflix_ratings = zip(title,rating,rate_level,rate_description)\n",
    "            \n",
    "\n",
    "        \n",
    "# 0 = title, 1 = rating, etc.\n",
    "\n",
    "# This code is openig a file and writing to it\n",
    "\n",
    "new_file = os.path.join(\"..\",\"Resources\", \"this_is_a_new_file2.csv\")\n",
    "\n",
    "with open(new_file, \"w\") as datafile:\n",
    "    writer = csv.writer(datafile)\n",
    "    \n",
    "    writer.writerows(netflix_ratings)\n",
    "    \n",
    "    \n",
    "\n",
    "\n",
    "    "
   ]
  },
  {
   "cell_type": "code",
   "execution_count": null,
   "metadata": {},
   "outputs": [],
   "source": []
  },
  {
   "cell_type": "code",
   "execution_count": null,
   "metadata": {},
   "outputs": [],
   "source": []
  }
 ],
 "metadata": {
  "kernelspec": {
   "display_name": "Python 3",
   "language": "python",
   "name": "python3"
  },
  "language_info": {
   "codemirror_mode": {
    "name": "ipython",
    "version": 3
   },
   "file_extension": ".py",
   "mimetype": "text/x-python",
   "name": "python",
   "nbconvert_exporter": "python",
   "pygments_lexer": "ipython3",
   "version": "3.7.6"
  }
 },
 "nbformat": 4,
 "nbformat_minor": 4
}
