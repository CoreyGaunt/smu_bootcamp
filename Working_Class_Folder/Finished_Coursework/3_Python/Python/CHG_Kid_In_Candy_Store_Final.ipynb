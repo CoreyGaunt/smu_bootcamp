{
 "cells": [
  {
   "cell_type": "code",
   "execution_count": null,
   "metadata": {},
   "outputs": [],
   "source": [
    "# The list of candies to print to the screen\n",
    "candy_list = [\"Snickers\", \"Kit Kat\", \"Sour Patch Kids\", \"Juicy Fruit\", \"Swedish Fish\", \"Skittles\", \"Hershey Bar\", \"Starbursts\", \"M&Ms\"]"
   ]
  },
  {
   "cell_type": "code",
   "execution_count": null,
   "metadata": {},
   "outputs": [],
   "source": [
    "# The amount of candy the user will be allowed to choose\n",
    "allowance = 5"
   ]
  },
  {
   "cell_type": "code",
   "execution_count": null,
   "metadata": {},
   "outputs": [],
   "source": [
    "# The list used to store all of the candies selected inside of\n",
    "candy_cart = []"
   ]
  },
  {
   "cell_type": "code",
   "execution_count": null,
   "metadata": {},
   "outputs": [],
   "source": [
    "# Print out options\n",
    "# this is essentially saying for index in indeces of list, print\n",
    "# [\"index\"] + candy\n",
    "\n",
    "for i in range(len(candy_list)):\n",
    "    print(\"[\" + str(i) + \"] \" + candy_list[i])\n",
    "    \n",
    "print(\"Which candy would you like to bring with you? \")\n",
    "\n",
    "# Here we use the variable 'allowance' to allow the loop number to be\n",
    "# flexible\n",
    "# this loop creates a new list 'selected' that is populated with the user inputs\n",
    "\n",
    "for x in range(allowance):\n",
    "    selected = input(\"Input the number of the candy you want: \")\n",
    "\n",
    "    # this line of code is taking the INTEGER of your selected list\n",
    "    # and appending it to your EMPTY candy_cart\n",
    "    \n",
    "    candy_cart.append(candy_list[int(selected)])\n",
    "    \n",
    "print(\"I brought home with me...\")\n",
    "for candy in candy_cart:\n",
    "    print(candy)"
   ]
  },
  {
   "cell_type": "code",
   "execution_count": null,
   "metadata": {},
   "outputs": [
    {
     "name": "stdout",
     "output_type": "stream",
     "text": [
      "[0] Snickers\n",
      "[1] Kit Kat\n",
      "[2] Sour Patch Kids\n",
      "[3] Juicy Fruit\n",
      "[4] Swedish Fish\n",
      "[5] Skittles\n",
      "[6] Hershey Bar\n",
      "[7] Starbursts\n",
      "[8] M&Ms\n",
      "Which candy would you like to bring with you? \n",
      "Input the number of candy you want1\n",
      "Which candy would you like to bring with you? \n"
     ]
    }
   ],
   "source": [
    "# The list of candies to print to the screen\n",
    "candy_list = [\"Snickers\", \"Kit Kat\", \"Sour Patch Kids\", \"Juicy Fruit\", \"Swedish Fish\", \"Skittles\", \"Hershey Bar\", \"Starbursts\", \"M&Ms\"]\n",
    "\n",
    "# The list used to store all of the candies selected inside of\n",
    "candy_cart = []\n",
    "\n",
    "# set answer to \"yes\" for while loop\n",
    "answer = \"yes\"\n",
    "\n",
    "# Print out options\n",
    "# this is essentially saying for index in indeces of list, print\n",
    "# [\"index\"] + candy\n",
    "\n",
    "for i in range(len(candy_list)):\n",
    "    print(\"[\" + str(i) + \"] \" + candy_list[i])\n",
    "\n",
    "while answer == \"yes\":\n",
    "    print(\"Which candy would you like to bring with you? \")\n",
    "    selected = input(\"Input the number of candy you want\" )\n",
    "\n",
    "    # this line of code is taking the INTEGER of your selected list\n",
    "    # and appending it to your EMPTY candy_cart\n",
    "    \n",
    "    candy_cart.append(candy_list[int(selected)])\n",
    "    \n",
    "print(\"I brought home with me...\")\n",
    "    for candy in candy_cart:\n",
    "        print(candy)"
   ]
  },
  {
   "cell_type": "code",
   "execution_count": null,
   "metadata": {},
   "outputs": [],
   "source": []
  }
 ],
 "metadata": {
  "kernelspec": {
   "display_name": "Python 3",
   "language": "python",
   "name": "python3"
  },
  "language_info": {
   "codemirror_mode": {
    "name": "ipython",
    "version": 3
   },
   "file_extension": ".py",
   "mimetype": "text/x-python",
   "name": "python",
   "nbconvert_exporter": "python",
   "pygments_lexer": "ipython3",
   "version": "3.7.6"
  }
 },
 "nbformat": 4,
 "nbformat_minor": 4
}
