{
 "cells": [
  {
   "cell_type": "code",
   "execution_count": null,
   "metadata": {},
   "outputs": [],
   "source": [
    "# 0 - Wrestler\n",
    "# 1 - Wins\n",
    "# 2 - Losses\n",
    "# 3 - Draws\n",
    "\n",
    "import os\n",
    "import csv\n",
    "\n",
    "SourceData = os.path.join (\"..\",\"Python_Day_3\",\"WWE-Data-2016.csv\")\n",
    "\n",
    "def Wrestler(wrestlerData):\n",
    "    total_matches = 0\n",
    "    w_list = [row[1],row[2],row[3]]\n",
    "    for wrestler in wrestlerData:\n",
    "        total_matches = sum(w_list)\n",
    "        print(f' This boxer has had {w_list} total matches.)\n",
    "    for wrestler in wrestlerData:\n",
    "        precent_won = (row[1]) / ((row[2] + row[3]))\n",
    "        print(f' They have won their matches {percent_won} of the time)\n",
    "              \n",
    "with open(SourceData,encoding='utf-8') as csvfile:\n",
    "    csvreader = csv.reader(csvfile,delimeter=',')\n",
    "    csv_header = next(csvfile)\n",
    "    print(f\"Header: {csv_header}\")\n",
    "    \n",
    "Wrestler(\"Dean Ambrose\")\n",
    "              \n",
    "              "
   ]
  },
  {
   "cell_type": "code",
   "execution_count": null,
   "metadata": {},
   "outputs": [],
   "source": []
  }
 ],
 "metadata": {
  "kernelspec": {
   "display_name": "Python 3",
   "language": "python",
   "name": "python3"
  },
  "language_info": {
   "codemirror_mode": {
    "name": "ipython",
    "version": 3
   },
   "file_extension": ".py",
   "mimetype": "text/x-python",
   "name": "python",
   "nbconvert_exporter": "python",
   "pygments_lexer": "ipython3",
   "version": "3.7.6"
  }
 },
 "nbformat": 4,
 "nbformat_minor": 4
}
