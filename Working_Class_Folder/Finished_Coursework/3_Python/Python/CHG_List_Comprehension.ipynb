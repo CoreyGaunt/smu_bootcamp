{
 "cells": [
  {
   "cell_type": "code",
   "execution_count": 1,
   "metadata": {},
   "outputs": [
    {
     "name": "stdout",
     "output_type": "stream",
     "text": [
      "['A', 'l', 'a', 's', 'k', 'a', 'n', ' ', 'S', 'a', 'l', 'm', 'o', 'n']\n"
     ]
    }
   ],
   "source": [
    "Fish = \"Alaskan Salmon\"\n",
    "\n",
    "letters = []\n",
    "\n",
    "for letter in Fish:\n",
    "    letters.append(letter)\n",
    "    \n",
    "print(letters)"
   ]
  },
  {
   "cell_type": "code",
   "execution_count": 3,
   "metadata": {},
   "outputs": [
    {
     "name": "stdout",
     "output_type": "stream",
     "text": [
      "['A', 'l', 'a', 's', 'k', 'a', 'n', ' ', 'S', 'a', 'l', 'm', 'o', 'n']\n"
     ]
    }
   ],
   "source": [
    "# This block of code does the exact same thing as the one above\n",
    "# Only the code is much cleaner\n",
    "\n",
    "letters = [letter for letter in Fish]\n",
    "\n",
    "print(letters)"
   ]
  },
  {
   "cell_type": "code",
   "execution_count": 5,
   "metadata": {},
   "outputs": [
    {
     "name": "stdout",
     "output_type": "stream",
     "text": [
      "['A', 'L', 'A', 'S', 'K', 'A', 'N', ' ', 'S', 'A', 'L', 'M', 'O', 'N']\n"
     ]
    }
   ],
   "source": [
    "# This code manipulates the string - follow the order of operations\n",
    "#\n",
    "# Uppercase the letter for EACH letter in the variable Fish\n",
    "\n",
    "capital_letters = [letter.upper() for letter in Fish]\n",
    "\n",
    "print(capital_letters)"
   ]
  },
  {
   "cell_type": "code",
   "execution_count": 6,
   "metadata": {},
   "outputs": [
    {
     "name": "stdout",
     "output_type": "stream",
     "text": [
      "[92, 106]\n"
     ]
    }
   ],
   "source": [
    "# Conditional Statements - Logic in List comprehension\n",
    "\n",
    "july_temp = [87, 85, 92, 79, 106]\n",
    "\n",
    "hot_days = []\n",
    "\n",
    "for temperature in july_temp:\n",
    "    if temperature > 90:\n",
    "        hot_days.append(temperature)\n",
    "print(hot_days)\n"
   ]
  },
  {
   "cell_type": "code",
   "execution_count": 7,
   "metadata": {},
   "outputs": [
    {
     "name": "stdout",
     "output_type": "stream",
     "text": [
      "[92, 106]\n"
     ]
    }
   ],
   "source": [
    "# You can add If statements to a variable as well - Nuts!\n",
    "\n",
    "hot_days = [temperature for temperature in july_temp if temperature > 90]\n",
    "\n",
    "print(hot_days)"
   ]
  },
  {
   "cell_type": "code",
   "execution_count": null,
   "metadata": {},
   "outputs": [],
   "source": [
    "# Line Break "
   ]
  }
 ],
 "metadata": {
  "kernelspec": {
   "display_name": "Python 3",
   "language": "python",
   "name": "python3"
  },
  "language_info": {
   "codemirror_mode": {
    "name": "ipython",
    "version": 3
   },
   "file_extension": ".py",
   "mimetype": "text/x-python",
   "name": "python",
   "nbconvert_exporter": "python",
   "pygments_lexer": "ipython3",
   "version": "3.7.6"
  }
 },
 "nbformat": 4,
 "nbformat_minor": 4
}
