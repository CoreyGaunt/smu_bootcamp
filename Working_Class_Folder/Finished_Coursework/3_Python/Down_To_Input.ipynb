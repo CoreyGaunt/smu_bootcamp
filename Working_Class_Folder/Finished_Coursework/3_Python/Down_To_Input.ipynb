{
 "cells": [
  {
   "cell_type": "code",
   "execution_count": 11,
   "metadata": {},
   "outputs": [
    {
     "name": "stdout",
     "output_type": "stream",
     "text": [
      "What is your name? Dick\n",
      "What is your neighbor's name? Jane\n",
      "How many months have you been coding? 23\n",
      "How about your neighbor? How long have they been coding? 32\n"
     ]
    }
   ],
   "source": [
    "my_name = input(\"What is your name? \")\n",
    "neighbor_name = input(\"What is your neighbor's name? \")\n",
    "your_code = int(input(\"How many months have you been coding? \"))\n",
    "neighbor_code = int(input(\"How about your neighbor? How long have they been coding? \"))"
   ]
  },
  {
   "cell_type": "code",
   "execution_count": 12,
   "metadata": {},
   "outputs": [
    {
     "name": "stdout",
     "output_type": "stream",
     "text": [
      "Now let me tell you a story about myself and my neighbor. My name is Dick, and my neighbor is named Jane.\n",
      "\n",
      "We both recently started to learn how to code in Python!\n",
      "\n",
      "Jane has done it a bit longer than me (about 32 months), and I have been coding for 23!\n"
     ]
    }
   ],
   "source": [
    "print(f\"Now let me tell you a story about myself and my neighbor. My name is {my_name}, and my neighbor is named {neighbor_name}.\")\n",
    "print(\"\")\n",
    "print(f\"We both recently started to learn how to code in Python!\")\n",
    "print(\"\")\n",
    "print(f\"{neighbor_name} has done it a bit longer than me (about {neighbor_code} months), and I have been coding for {your_code}!\")"
   ]
  },
  {
   "cell_type": "code",
   "execution_count": 13,
   "metadata": {},
   "outputs": [
    {
     "name": "stdout",
     "output_type": "stream",
     "text": [
      "Together we have been coding for 55 months!\n"
     ]
    }
   ],
   "source": [
    "print(\"Together we have been coding for \" + str(your_code + neighbor_code) + \" months!\")"
   ]
  },
  {
   "cell_type": "code",
   "execution_count": null,
   "metadata": {},
   "outputs": [],
   "source": []
  }
 ],
 "metadata": {
  "kernelspec": {
   "display_name": "Python 3",
   "language": "python",
   "name": "python3"
  },
  "language_info": {
   "codemirror_mode": {
    "name": "ipython",
    "version": 3
   },
   "file_extension": ".py",
   "mimetype": "text/x-python",
   "name": "python",
   "nbconvert_exporter": "python",
   "pygments_lexer": "ipython3",
   "version": "3.7.6"
  }
 },
 "nbformat": 4,
 "nbformat_minor": 4
}
