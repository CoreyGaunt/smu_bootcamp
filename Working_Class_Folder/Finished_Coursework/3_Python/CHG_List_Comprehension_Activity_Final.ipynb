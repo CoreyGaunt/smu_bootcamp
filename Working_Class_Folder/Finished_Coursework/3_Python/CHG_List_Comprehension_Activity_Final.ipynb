{
 "cells": [
  {
   "cell_type": "code",
   "execution_count": 12,
   "metadata": {},
   "outputs": [
    {
     "name": "stdout",
     "output_type": "stream",
     "text": [
      "Please enter the name of someone you know. COREY\n",
      "Please enter the name of someone you know. sAVANNAH\n",
      "Please enter the name of someone you know. GeOrGe\n",
      "Please enter the name of someone you know. mIcHaEl\n",
      "Please enter the name of someone you know. hunter\n",
      "Dear Corey, please come to the wedding this Saturday!\n",
      "Dear Savannah, please come to the wedding this Saturday!\n",
      "Dear George, please come to the wedding this Saturday!\n",
      "Dear Michael, please come to the wedding this Saturday!\n",
      "Dear Hunter, please come to the wedding this Saturday!\n"
     ]
    }
   ],
   "source": [
    "names = []\n",
    "for name in range(5):\n",
    "    name = input(\"Please enter the name of someone you know. \")\n",
    "    names.append(name)\n",
    "\n",
    "# @TODO: Use a list comprehension to create a list of lowercased names\n",
    "lowercased = [name.lower() for name in names]\n",
    "\n",
    "# @TODO: Use a list comprehension to create a list of titlecased names\n",
    "# https://www.tutorialspoint.com/python/string_title.htm\n",
    "titlecased = [name.title() for name in lowercased]\n",
    "\n",
    "titleandloweralthoughreallyjusttitle = [name.title() for name in names]\n",
    "\n",
    "invitations = [\n",
    "    f\"Dear {name}, please come to the wedding this Saturday!\" for name in titleandloweralthoughreallyjusttitle]\n",
    "\n",
    "for invitation in invitations:\n",
    "    print(invitation)"
   ]
  },
  {
   "cell_type": "code",
   "execution_count": 11,
   "metadata": {},
   "outputs": [
    {
     "name": "stdout",
     "output_type": "stream",
     "text": [
      "['Dear , please come to the wedding this Saturday!', 'Dear Corey, please come to the wedding this Saturday!', 'Dear Corey, please come to the wedding this Saturday!', 'Dear Coffta, please come to the wedding this Saturday!', 'Dear Cofdaf, please come to the wedding this Saturday!']\n"
     ]
    }
   ],
   "source": [
    "print(invitations)"
   ]
  },
  {
   "cell_type": "code",
   "execution_count": null,
   "metadata": {},
   "outputs": [],
   "source": []
  }
 ],
 "metadata": {
  "kernelspec": {
   "display_name": "Python 3",
   "language": "python",
   "name": "python3"
  },
  "language_info": {
   "codemirror_mode": {
    "name": "ipython",
    "version": 3
   },
   "file_extension": ".py",
   "mimetype": "text/x-python",
   "name": "python",
   "nbconvert_exporter": "python",
   "pygments_lexer": "ipython3",
   "version": "3.7.6"
  }
 },
 "nbformat": 4,
 "nbformat_minor": 4
}
