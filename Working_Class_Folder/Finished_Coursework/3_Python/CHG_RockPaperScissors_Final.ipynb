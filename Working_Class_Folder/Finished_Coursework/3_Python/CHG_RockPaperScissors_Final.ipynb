{
 "cells": [
  {
   "cell_type": "code",
   "execution_count": 10,
   "metadata": {},
   "outputs": [],
   "source": [
    "# Incorporate the random library\n",
    "import random"
   ]
  },
  {
   "cell_type": "code",
   "execution_count": 11,
   "metadata": {},
   "outputs": [
    {
     "name": "stdout",
     "output_type": "stream",
     "text": [
      "Let's Play Rock Paper Scissors!\n"
     ]
    }
   ],
   "source": [
    "# Print Title\n",
    "print(\"Let's Play Rock Paper Scissors!\")"
   ]
  },
  {
   "cell_type": "code",
   "execution_count": 12,
   "metadata": {},
   "outputs": [],
   "source": [
    "# Specify the three options\n",
    "options = [\"r\", \"p\", \"s\"]"
   ]
  },
  {
   "cell_type": "code",
   "execution_count": 13,
   "metadata": {},
   "outputs": [
    {
     "name": "stdout",
     "output_type": "stream",
     "text": [
      "Make your Choice: (r)ock, (p)aper, (s)cissors? s\n",
      "Draw!\n"
     ]
    }
   ],
   "source": [
    "# Computer Selection\n",
    "computer_choice = random.choice(options)\n",
    "\n",
    "# User Selection\n",
    "user_choice = input(\"Make your Choice: (r)ock, (p)aper, (s)cissors? \")\n",
    "\n",
    "# Run Conditionals\n",
    "if user_choice == computer_choice:\n",
    "    print(\"Draw!\")\n",
    "elif user_choice == \"r\":\n",
    "    if computer_choice == \"p\":\n",
    "        print(f\"Computer picks ({computer_choice})aper, you pick ({user_choice})ock... Computer wins!\")\n",
    "    else:\n",
    "        print(f\"Computer picks ({computer_choice})cissors, you pick ({user_choice})ock... You win!\")\n",
    "elif user_choice == \"p\":\n",
    "    if computer_choice == \"s\":\n",
    "        print(f\"Computer picks ({computer_choice})cissors, you pick ({user_choice})aper... Computer wins!\")\n",
    "    else:\n",
    "        print(f\"Computer picks ({computer_choice})ock, you pick ({user_choice})aper... You win!\")\n",
    "elif user_choice == \"s\":\n",
    "    if computer_choice == \"r\":\n",
    "        print(f\"Computer picks ({computer_choice})ock, you pick ({user_choice})cissors... Computer wins!\")\n",
    "    else:\n",
    "        print(f\"Computer picks ({computer_choice})aper, you pick ({user_choice})cissors... You win!\")\n",
    "else:\n",
    "    print(\"Please select a character from the Choices list\")\n",
    "        "
   ]
  },
  {
   "cell_type": "code",
   "execution_count": null,
   "metadata": {},
   "outputs": [],
   "source": []
  }
 ],
 "metadata": {
  "kernelspec": {
   "display_name": "Python 3",
   "language": "python",
   "name": "python3"
  },
  "language_info": {
   "codemirror_mode": {
    "name": "ipython",
    "version": 3
   },
   "file_extension": ".py",
   "mimetype": "text/x-python",
   "name": "python",
   "nbconvert_exporter": "python",
   "pygments_lexer": "ipython3",
   "version": "3.7.6"
  }
 },
 "nbformat": 4,
 "nbformat_minor": 4
}
