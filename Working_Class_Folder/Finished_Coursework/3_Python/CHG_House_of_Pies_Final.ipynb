{
 "cells": [
  {
   "cell_type": "code",
   "execution_count": 1,
   "metadata": {},
   "outputs": [
    {
     "name": "stdout",
     "output_type": "stream",
     "text": [
      "(0) Pecan,(1) Chocolate,(2) Peanut Butter,(3) Key Lime,(4) Apple,\n",
      "What pie would you like to purchase today? \n",
      "\n",
      "Select the number of the pie you would like: 0\n",
      "Great! We'll have that Pecan pie right out for you\n",
      "Would you like to buy another pie? ('yes' or 'no') yes\n",
      "\n",
      "What pie would you like to purchase today? \n",
      "\n",
      "Select the number of the pie you would like: 0\n",
      "Great! We'll have that Pecan pie right out for you\n",
      "Would you like to buy another pie? ('yes' or 'no') yes\n",
      "\n",
      "What pie would you like to purchase today? \n",
      "\n",
      "Select the number of the pie you would like: 3\n",
      "Great! We'll have that Key Lime pie right out for you\n",
      "Would you like to buy another pie? ('yes' or 'no') no\n",
      "You have purchased...\n",
      "\n",
      "2 Pecan\n",
      "0 Chocolate\n",
      "0 Peanut Butter\n",
      "1 Key Lime\n",
      "0 Apple\n",
      "Which brings your total pies to 8 pies!\n"
     ]
    }
   ],
   "source": [
    "from collections import Counter\n",
    "\n",
    "pie_menu = [\n",
    "    \"Pecan\",\n",
    "    \"Chocolate\",\n",
    "    \"Peanut Butter\",\n",
    "    \"Key Lime\",\n",
    "    \"Apple\"\n",
    "]\n",
    "\n",
    "# empty list to iterate off of\n",
    "\n",
    "pies_purchased = [0,0,0,0,0]\n",
    "\n",
    "# printing the list of items along with their index (I was supposed to have the list start at one, but I didn't)\n",
    "\n",
    "for i in range(len(pie_menu)):\n",
    "    print(\"(\" + str(i) + \") \" + pie_menu[i], end=\",\")\n",
    "    \n",
    "answer = \"yes\"\n",
    "\n",
    "while answer == \"yes\":\n",
    "    print(\"\")\n",
    "    print(\"What pie would you like to purchase today? \")\n",
    "    print(\"\")\n",
    "    selected = input(\"Select the number of the pie you would like: \")\n",
    "    \n",
    "    # get index of pie from the selected number\n",
    "    \n",
    "    choice_index = int(selected)\n",
    "\n",
    "    # Add pie to the pie list by finding the matching index and adding one to its value\n",
    "    pies_purchased[choice_index] += 1\n",
    "    \n",
    "    # for printing out an item from a list you need to reference the list need 'pie_menu'\n",
    "    # then we need to convert the USER INPUT SELECTION 'i.e. selected' to an integer \n",
    "    # IMPORTANT all user input reads as a string, if you need to use it it must be converted to INTEGER\n",
    "    # How to think about this - What list? Is your item already an integer? Which index?\n",
    "    \n",
    "    print(\"Great! We'll have that \" + pie_menu[int(selected)] + \" pie right out for you\")\n",
    "    \n",
    "    \n",
    "    pies_purchased.append(pie_menu[int(selected)])\n",
    "    \n",
    "    answer = input(\"Would you like to buy another pie? ('yes' or 'no') \")\n",
    "    \n",
    "print(\"You have purchased...\")\n",
    "print(\"\")\n",
    "\n",
    "for pie_index in range(len(pie_menu)):\n",
    "    pie_count = str(pies_purchased[pie_index])\n",
    "    pie_name = str(pie_menu[pie_index])\n",
    "    \n",
    "    print(pie_count + \" \" + pie_name)\n",
    "    \n",
    "# This code is essentially telling the computer to print out the LENGTH of the PIES_PURCHASED list\n",
    "\n",
    "print(\"Which brings your total pies to \" + str(len(pies_purchased)) + \" pies!\")"
   ]
  },
  {
   "cell_type": "markdown",
   "metadata": {},
   "source": [
    "# "
   ]
  },
  {
   "cell_type": "code",
   "execution_count": null,
   "metadata": {},
   "outputs": [],
   "source": []
  },
  {
   "cell_type": "code",
   "execution_count": null,
   "metadata": {},
   "outputs": [],
   "source": []
  }
 ],
 "metadata": {
  "kernelspec": {
   "display_name": "Python 3",
   "language": "python",
   "name": "python3"
  },
  "language_info": {
   "codemirror_mode": {
    "name": "ipython",
    "version": 3
   },
   "file_extension": ".py",
   "mimetype": "text/x-python",
   "name": "python",
   "nbconvert_exporter": "python",
   "pygments_lexer": "ipython3",
   "version": "3.7.6"
  }
 },
 "nbformat": 4,
 "nbformat_minor": 4
}
