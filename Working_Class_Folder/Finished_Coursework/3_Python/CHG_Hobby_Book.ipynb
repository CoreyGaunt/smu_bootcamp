{
 "cells": [
  {
   "cell_type": "code",
   "execution_count": 33,
   "metadata": {},
   "outputs": [],
   "source": [
    "my_info = {\n",
    "    \"Name\":\"Corey Gaunt\",\n",
    "    \"Age\":27,\"Hobbies\":[\"Snowboarding\",\"Wakesurfing\",\"Watching Film\", \"Playing Videogames\"],\n",
    "    \"Schedule\":{   \n",
    "        \"Mon\":\"8:00am\",\n",
    "        \"Tues\":\"8:00am\",\n",
    "        \"Wed\":\"7:30am\",\n",
    "        \"Thur\":\"8:00am\",\n",
    "        \"Fri\":\"9:00am\"\n",
    "    }\n",
    "}"
   ]
  },
  {
   "cell_type": "code",
   "execution_count": 34,
   "metadata": {},
   "outputs": [
    {
     "name": "stdout",
     "output_type": "stream",
     "text": [
      "{'Name': 'Corey Gaunt', 'Age': 27, 'Hobbies': ['Snowboarding', 'Wakesurfing', 'Watching Film', 'Playing Videogames'], 'Schedule': {'Mon': '8:00am', 'Tues': '8:00am', 'Wed': '7:30am', 'Thur': '8:00am', 'Fri': '9:00am'}}\n"
     ]
    }
   ],
   "source": [
    "print(my_info)"
   ]
  },
  {
   "cell_type": "code",
   "execution_count": 46,
   "metadata": {},
   "outputs": [
    {
     "name": "stdout",
     "output_type": "stream",
     "text": [
      "My name is Corey Gaunt, and I have 4 hobbies. I get up at 8:00am on Mondays!\n"
     ]
    }
   ],
   "source": [
    "# I used a backsplash here to continue my line of code without having to scroll\n",
    "\n",
    "print(f\"My name is {my_info['Name']}, and I have {len(my_info['Hobbies'])} hobbies.\\\n",
    " I get up at {my_info['Schedule']['Mon']} on Mondays!\")\n"
   ]
  },
  {
   "cell_type": "code",
   "execution_count": null,
   "metadata": {},
   "outputs": [],
   "source": []
  }
 ],
 "metadata": {
  "kernelspec": {
   "display_name": "Python 3",
   "language": "python",
   "name": "python3"
  },
  "language_info": {
   "codemirror_mode": {
    "name": "ipython",
    "version": 3
   },
   "file_extension": ".py",
   "mimetype": "text/x-python",
   "name": "python",
   "nbconvert_exporter": "python",
   "pygments_lexer": "ipython3",
   "version": "3.7.6"
  }
 },
 "nbformat": 4,
 "nbformat_minor": 4
}
