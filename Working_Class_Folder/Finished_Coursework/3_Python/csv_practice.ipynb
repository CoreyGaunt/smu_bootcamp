{
 "cells": [
  {
   "cell_type": "code",
   "execution_count": 4,
   "metadata": {},
   "outputs": [
    {
     "ename": "SyntaxError",
     "evalue": "(unicode error) 'unicodeescape' codec can't decode bytes in position 2-3: truncated \\UXXXXXXXX escape (<ipython-input-4-a9fc96cb1d1c>, line 11)",
     "output_type": "error",
     "traceback": [
      "\u001b[1;36m  File \u001b[1;32m\"<ipython-input-4-a9fc96cb1d1c>\"\u001b[1;36m, line \u001b[1;32m11\u001b[0m\n\u001b[1;33m    csvpath = \"C:\\Users\\Corey H. Gaunt\\Documents\\3_Personal\\Coding\\smu_bootcamp\\Working_Class_Folder\\Class_Activities\\01-Lesson-Plans\\03-Python\\2\\Activities\\08-Ins_ReadCSV\\Resources\"\u001b[0m\n\u001b[1;37m             ^\u001b[0m\n\u001b[1;31mSyntaxError\u001b[0m\u001b[1;31m:\u001b[0m (unicode error) 'unicodeescape' codec can't decode bytes in position 2-3: truncated \\UXXXXXXXX escape\n"
     ]
    }
   ],
   "source": [
    "# First we'll import the os module\n",
    "# This will allow us to create file paths across operating systems\n",
    "\n",
    "import os\n",
    "import unicode\n",
    "\n",
    "# Module for reading CSV files\n",
    "\n",
    "import csv\n",
    "\n",
    "csvpath = \"C:\\Users\\Corey H. Gaunt\\Documents\\3_Personal\\Coding\\smu_bootcamp\\Working_Class_Folder\\Class_Activities\\01-Lesson-Plans\\03-Python\\2\\Activities\\08-Ins_ReadCSV\\Resources\"\n",
    "\n",
    "with open(csvpath) as csvfile:\n",
    "    \n",
    "    # CSV reader specifices delimiter and variable that hold content\n",
    "    csvreader = csv.reader(csvfile, delimiter=',')\n",
    "    \n",
    "    print(csvreader)\n",
    "    \n",
    "    # Read the header row first (skip this step if there is no header)\n",
    "    csv_header = next(csvreader)\n",
    "    print(F\"CSV Header: {csv_header}\")\n",
    "    \n",
    "    for row in csvreader:\n",
    "        print(row)"
   ]
  },
  {
   "cell_type": "code",
   "execution_count": null,
   "metadata": {},
   "outputs": [],
   "source": []
  }
 ],
 "metadata": {
  "kernelspec": {
   "display_name": "Python 3",
   "language": "python",
   "name": "python3"
  },
  "language_info": {
   "codemirror_mode": {
    "name": "ipython",
    "version": 3
   },
   "file_extension": ".py",
   "mimetype": "text/x-python",
   "name": "python",
   "nbconvert_exporter": "python",
   "pygments_lexer": "ipython3",
   "version": "3.7.6"
  }
 },
 "nbformat": 4,
 "nbformat_minor": 4
}
