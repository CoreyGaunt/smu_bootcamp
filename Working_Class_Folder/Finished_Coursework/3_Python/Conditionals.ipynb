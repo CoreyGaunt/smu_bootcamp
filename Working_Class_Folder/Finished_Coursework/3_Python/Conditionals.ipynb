{
 "cells": [
  {
   "cell_type": "code",
   "execution_count": 30,
   "metadata": {},
   "outputs": [],
   "source": [
    "x = 10\n",
    "y = 10"
   ]
  },
  {
   "cell_type": "code",
   "execution_count": 31,
   "metadata": {},
   "outputs": [],
   "source": [
    "# Checks if one value is equal to another\n",
    "if x == 1:\n",
    "    print(\"x is equal to 1\")"
   ]
  },
  {
   "cell_type": "code",
   "execution_count": 32,
   "metadata": {},
   "outputs": [
    {
     "name": "stdout",
     "output_type": "stream",
     "text": [
      "y is not equal to 1\n"
     ]
    }
   ],
   "source": [
    "# Checks if one value is NOT equal to another\n",
    "if y != 1:\n",
    "    print(\"y is not equal to 1\")"
   ]
  },
  {
   "cell_type": "code",
   "execution_count": 33,
   "metadata": {},
   "outputs": [],
   "source": [
    "# Checks for two conditions to be met\n",
    "if x == 1 and y != 1:\n",
    "    print(\"x is equal to 1 and y is NOT equal to 1\")"
   ]
  },
  {
   "cell_type": "code",
   "execution_count": 34,
   "metadata": {},
   "outputs": [],
   "source": [
    "# Nested if statements\n",
    "if x <10:\n",
    "    if y < 5:\n",
    "        print(\"x is less than 10 an y is less than 5\")\n",
    "    elif y == 5:\n",
    "        print(\"x is less than 10 and y equals 5\")\n",
    "    else:\n",
    "        print(\"x is less than 10 and y is larger than 5\")"
   ]
  },
  {
   "cell_type": "code",
   "execution_count": 35,
   "metadata": {},
   "outputs": [],
   "source": [
    "name = \"Bob\""
   ]
  },
  {
   "cell_type": "code",
   "execution_count": 36,
   "metadata": {},
   "outputs": [
    {
     "name": "stdout",
     "output_type": "stream",
     "text": [
      "x is equal to 10\n"
     ]
    }
   ],
   "source": [
    "if x < 10:\n",
    "    if name == \"Corey\":\n",
    "        print(\"x is less than 10 and your name is Corey\")\n",
    "    else:\n",
    "        print(\"x is less than 10, and you need to get a cooler name\")\n",
    "elif x > 10:\n",
    "    if name == \"Corey\":\n",
    "        print(\"x is greater than 10, and your name is Corey\")\n",
    "    else:\n",
    "        print(\"x is greater than 10, and you need to get a cooler name\")\n",
    "else:\n",
    "    print(\"x is equal to 10\")"
   ]
  },
  {
   "cell_type": "code",
   "execution_count": null,
   "metadata": {},
   "outputs": [],
   "source": []
  },
  {
   "cell_type": "code",
   "execution_count": null,
   "metadata": {},
   "outputs": [],
   "source": []
  }
 ],
 "metadata": {
  "kernelspec": {
   "display_name": "Python 3",
   "language": "python",
   "name": "python3"
  },
  "language_info": {
   "codemirror_mode": {
    "name": "ipython",
    "version": 3
   },
   "file_extension": ".py",
   "mimetype": "text/x-python",
   "name": "python",
   "nbconvert_exporter": "python",
   "pygments_lexer": "ipython3",
   "version": "3.7.6"
  }
 },
 "nbformat": 4,
 "nbformat_minor": 4
}
