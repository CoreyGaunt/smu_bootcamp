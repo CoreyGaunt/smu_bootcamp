{
 "cells": [
  {
   "cell_type": "code",
   "execution_count": 2,
   "metadata": {},
   "outputs": [],
   "source": [
    "import os\n",
    "import csv\n",
    "\n",
    "# Title (1), Price(4), Subscriber Count(5), Number of Reviews(6), and Course Length(9)\n",
    "\n",
    "csvfile = os.path.join(\"..\",\"Resources\",\"web_starter.csv\")\n",
    "\n",
    "# lists to store data\n",
    "title = []\n",
    "price = []\n",
    "subs = []\n",
    "rev = []\n",
    "percent_review = []\n",
    "length = []\n",
    "\n",
    "with open(csvfile, encoding='utf-8') as csvfile:\n",
    "    csvreader = csv.reader(csvfile,delimiter=',')\n",
    "    \n",
    "    for row in csvreader:\n",
    "        title.append(row[1])\n",
    "        price.append(row[4])\n",
    "        subs.append(row[5])\n",
    "        rev.append(row[6])\n",
    "        \n",
    "        percent = round(int(row[5] / row[6]),2)\n",
    "        percent_review.append(percent)\n",
    "        \n",
    "        new_length = row[9].split(\" \")\n",
    "        length.append(float(new_length[0]))\n",
    "        \n",
    "    udemy = zip(title, price, subs, rev, length)\n",
    "    \n",
    "output_file = os.path.join(\"..\",\"Resources\",\"mynewfile.csv\")\n",
    "\n",
    "with open(output_file, \"w\") as datafile:\n",
    "    csvwriter = csv.writer(datafile)\n",
    "    \n",
    "    csvwriter.writerow([\"Title\", \"Price\", \"Subscriber Count\",\"Number of Reviews\",\"Course Length\"])\n",
    "    \n",
    "    csvwriter.writerows(udemy)\n",
    "\n",
    "    \n",
    "\n",
    "    \n",
    "    \n",
    "    \n",
    "    \n",
    "    \n",
    "    \n",
    "    "
   ]
  },
  {
   "cell_type": "code",
   "execution_count": null,
   "metadata": {},
   "outputs": [],
   "source": []
  }
 ],
 "metadata": {
  "kernelspec": {
   "display_name": "Python 3",
   "language": "python",
   "name": "python3"
  },
  "language_info": {
   "codemirror_mode": {
    "name": "ipython",
    "version": 3
   },
   "file_extension": ".py",
   "mimetype": "text/x-python",
   "name": "python",
   "nbconvert_exporter": "python",
   "pygments_lexer": "ipython3",
   "version": "3.7.6"
  }
 },
 "nbformat": 4,
 "nbformat_minor": 4
}
