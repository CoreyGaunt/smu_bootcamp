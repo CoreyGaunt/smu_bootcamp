{
 "cells": [
  {
   "cell_type": "code",
   "execution_count": 1,
   "metadata": {},
   "outputs": [
    {
     "ename": "SyntaxError",
     "evalue": "invalid syntax (<ipython-input-1-ce0a3d4f5162>, line 37)",
     "output_type": "error",
     "traceback": [
      "\u001b[1;36m  File \u001b[1;32m\"<ipython-input-1-ce0a3d4f5162>\"\u001b[1;36m, line \u001b[1;32m37\u001b[0m\n\u001b[1;33m    }\u001b[0m\n\u001b[1;37m    ^\u001b[0m\n\u001b[1;31mSyntaxError\u001b[0m\u001b[1;31m:\u001b[0m invalid syntax\n"
     ]
    }
   ],
   "source": [
    "# Create code to answer each of the following questions.\n",
    "# Hint: You will need multiple target URLs and multiple API requests.\n",
    "\n",
    "# Dependencies\n",
    "import requests\n",
    "import json\n",
    "from pprint import pprint\n",
    "\n",
    "# Retrieve Google API key from config.py\n",
    "from config import g_key\n",
    "\n",
    "# google api format\n",
    "# https://maps.googleapis.com/maps/api/geocode/json?place_id={}&key={}\n",
    "\n",
    "# Seattle Washington Place ID ChIJVTPokywQkFQRmtVEaUZlJRA\n",
    "# White House Place ID ChIJ37HL3ry3t4kRv3YLbdhpWXE\n",
    "\n",
    "\n",
    "WhiteHouse = '38.8976763, -77.0365298'\n",
    "cities = [Seattle, WhiteHouse]\n",
    "\n",
    "placeID = [ 'ChIJVTPokywQkFQRmtVEaUZlJRA','ChIJ37HL3ry3t4kRv3YLbdhpWXE']\n",
    "placeREQ = []\n",
    "\n",
    "\n",
    "for place in placeID:\n",
    "    base_url = ('https://maps.googleapis.com/maps/api/geocode/json?place_id=' + place + '&key=' + g_key)\n",
    "    response = requests.get(base_url)\n",
    "    json = response.json()\n",
    "    placeREQ.append(json)\n",
    "\n",
    "for city in cities:\n",
    "    \n",
    "    base_url2 = ('https://maps.googleapis.com/maps/api/place/nearbysearch/output?' + params)\n",
    "    \n",
    "    \n",
    "pprint(placeREQ)"
   ]
  },
  {
   "cell_type": "code",
   "execution_count": null,
   "metadata": {},
   "outputs": [],
   "source": [
    "# 1. What are the geocoordinates (latitude/longitude) of Seattle, Washington?\n",
    "SeattleLAT = placeREQ[0]['results'][0]['geometry']['location']['lat']\n",
    "SeattleLONG = placeREQ[0]['results'][0]['geometry']['location']['lng']\n",
    "\n",
    "SeattleGEO = (f\"Seattle's Location = Lattitude: {SeattleLAT}, Longitude: {SeattleLONG}\")\n",
    "SeattleGEO"
   ]
  },
  {
   "cell_type": "code",
   "execution_count": null,
   "metadata": {},
   "outputs": [],
   "source": [
    "# 2. What are the geocoordinates (latitude/longitude) of The White House?\n",
    "\n",
    "WhiteHouseLAT = placeREQ[1]['results'][0]['geometry']['location']['lat']\n",
    "WhiteHouseLONG = placeREQ[1]['results'][0]['geometry']['location']['lng']\n",
    "\n",
    "WhiteHouseGEO = (f\"The Location of the White House = Lattitude: {WhiteHouseLAT}, Longitude: {WhiteHouseLONG}\")\n",
    "WhiteHouseGEO"
   ]
  },
  {
   "cell_type": "code",
   "execution_count": null,
   "metadata": {},
   "outputs": [],
   "source": [
    "# 3. Find the name and address of a bike store in Seattle, Washington.\n",
    "#    Hint: See https://developers.google.com/places/web-service/supported_types\n",
    "Seattle = '47.6062095, -122.3320708'\n",
    "target_type = 'bicycle_store'"
   ]
  },
  {
   "cell_type": "code",
   "execution_count": null,
   "metadata": {},
   "outputs": [],
   "source": [
    "# 4. Find a balloon store near the White House."
   ]
  },
  {
   "cell_type": "code",
   "execution_count": null,
   "metadata": {},
   "outputs": [],
   "source": [
    "# 5. Find the nearest dentist to your house.\n",
    "#    Hint: Use Google Maps to find your latitude and Google Places to find the\n",
    "#    dentist. You will also need the rankby property."
   ]
  },
  {
   "cell_type": "code",
   "execution_count": null,
   "metadata": {},
   "outputs": [],
   "source": [
    "# 6. Bonus: Find the names and addresses of the top five restaurants in your home city.\n",
    "#    Hint: Read about \"Text Search Results\"\n",
    "# (https://developers.google.com/places/web-service/search#TextSearchRequests)"
   ]
  }
 ],
 "metadata": {
  "kernelspec": {
   "display_name": "Python 3",
   "language": "python",
   "name": "python3"
  },
  "language_info": {
   "codemirror_mode": {
    "name": "ipython",
    "version": 3
   },
   "file_extension": ".py",
   "mimetype": "text/x-python",
   "name": "python",
   "nbconvert_exporter": "python",
   "pygments_lexer": "ipython3",
   "version": "3.7.6"
  }
 },
 "nbformat": 4,
 "nbformat_minor": 2
}
