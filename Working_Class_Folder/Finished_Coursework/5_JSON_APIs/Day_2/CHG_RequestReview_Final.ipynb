{
 "cells": [
  {
   "cell_type": "code",
   "execution_count": 22,
   "metadata": {},
   "outputs": [],
   "source": [
    "# Dependencies\n",
    "import json\n",
    "import requests \n",
    "from pprint import pprint"
   ]
  },
  {
   "cell_type": "code",
   "execution_count": 23,
   "metadata": {},
   "outputs": [
    {
     "name": "stdout",
     "output_type": "stream",
     "text": [
      "[{'__v': 0,\n",
      "  '_id': '5f257f165b0f0a0015bf2b80',\n",
      "  'date': '2020-08-01T14:41:26.578Z',\n",
      "  'headline': 'James Murdoch Resigns From Board of Rupert Murdoch’s News '\n",
      "              'CorpMicrosoft Said to Be in Talks to Buy TikTok, as Trump '\n",
      "              'Weighs Curtailing App',\n",
      "  'saved': True,\n",
      "  'summary': '“My resignation is due to disagreements over certain editorial '\n",
      "             'content,” Mr. Murdoch wrote, severing his formal ties to his '\n",
      "             'father’s media empire.The talks come as the video app’s '\n",
      "             'ownership by a Chinese company is under scrutiny by the White '\n",
      "             'House and lawmakers.',\n",
      "  'url': 'https://www.nytimes.com/2020/07/31/business/media/james-murdoch-resigns-news-corp.html'},\n",
      " {'__v': 0,\n",
      "  '_id': '5f257f165b0f0a0015bf2b7c',\n",
      "  'date': '2020-08-01T14:41:26.576Z',\n",
      "  'headline': 'A School Reopens, and the Coronavirus Creeps InLawmakers Work '\n",
      "              'to Break Impasse Over Aid as $600-a-Week Lifeline ExpiresIndian '\n",
      "              'Billionaires Bet Big on Head Start in Vaccine Race',\n",
      "  'saved': True,\n",
      "  'summary': 'Administration officials are meeting with Democrats to discuss a '\n",
      "             'virus relief package. California has confirmed over 500,000 '\n",
      "             'cases. Here’s the latest.The world’s largest vaccine producer '\n",
      "             'has a plan to make hundreds of millions of doses of an unproven '\n",
      "             'inoculation. It’s a big gamble.',\n",
      "  'url': 'https://www.nytimes.com/2020/08/01/us/schools-reopening-indiana-coronavirus.html'},\n",
      " {'__v': 0,\n",
      "  '_id': '5f2579cb5b0f0a0015bf2b7b',\n",
      "  'date': '2020-08-01T14:18:51.705Z',\n",
      "  'headline': 'Beyoncé’s ‘Black Is King’: Let’s Discuss',\n",
      "  'saved': True,\n",
      "  'summary': 'The visual album uses songs from “The Lion King: The Gift,” a '\n",
      "             'grand statement of African-diaspora pride and creative power. '\n",
      "             'Here’s what six critics think.',\n",
      "  'url': 'https://www.nytimes.com/2020/07/31/arts/music/beyonce-black-is-king.html'},\n",
      " {'__v': 0,\n",
      "  '_id': '5f2579cb5b0f0a0015bf2b7a',\n",
      "  'date': '2020-08-01T14:18:51.704Z',\n",
      "  'headline': 'The Strange Lives of Objects in the Coronavirus Era',\n",
      "  'saved': True,\n",
      "  'summary': 'The pandemic has inspired a flurry of new and novel items — and '\n",
      "             'given ordinary ones new meanings.',\n",
      "  'url': 'https://www.nytimes.com/2020/08/01/arts/design/virus-design-objects.html'},\n",
      " {'__v': 0,\n",
      "  '_id': '5f2579cb5b0f0a0015bf2b79',\n",
      "  'date': '2020-08-01T14:18:51.704Z',\n",
      "  'headline': 'A Friendship, a Pandemic and a Death Beside the Highway',\n",
      "  'saved': True,\n",
      "  'summary': 'How a photograph of a young man cradling his dying friend sent '\n",
      "             'me on a journey across India.',\n",
      "  'url': 'https://www.nytimes.com/2020/07/31/opinion/sunday/India-migration-coronavirus.html'},\n",
      " {'__v': 0,\n",
      "  '_id': '5f2579cb5b0f0a0015bf2b78',\n",
      "  'date': '2020-08-01T14:18:51.703Z',\n",
      "  'headline': '11 of Our Best Weekend ReadsDid you follow the headlines this '\n",
      "              'week? Take our news quiz.',\n",
      "  'saved': True,\n",
      "  'summary': 'Mourning John Lewis. Advances in Alzheimer’s research. Sheep in '\n",
      "             'Senegal. Ben & Jerry. And more.',\n",
      "  'url': 'https://www.nytimes.com/2020/07/31/briefing/11-of-our-best-weekend-reads.html'},\n",
      " {'__v': 0,\n",
      "  '_id': '5f2579cb5b0f0a0015bf2b77',\n",
      "  'date': '2020-08-01T14:18:51.703Z',\n",
      "  'headline': 'Hurricane Isaias Hits Bahamas and Churns Toward Florida',\n",
      "  'saved': True,\n",
      "  'summary': 'The hurricane may cause a storm surge in Florida, further '\n",
      "             'testing a state that has been battered by the pandemic.',\n",
      "  'url': 'https://www.nytimes.com/2020/08/01/us/hurricane-isaias-updates.html'},\n",
      " {'__v': 0,\n",
      "  '_id': '5f2579cb5b0f0a0015bf2b73',\n",
      "  'date': '2020-08-01T14:18:51.702Z',\n",
      "  'headline': 'Indian Billionaires Bet Big on Head Start in Vaccine Race',\n",
      "  'saved': True,\n",
      "  'summary': 'The world’s largest vaccine producer has a plan to make hundreds '\n",
      "             'of millions of doses of an unproven inoculation. It’s a big '\n",
      "             'gamble.',\n",
      "  'url': 'https://www.nytimes.com/2020/08/01/world/asia/coronavirus-vaccine-india.html'},\n",
      " {'__v': 0,\n",
      "  '_id': '5f2579cb5b0f0a0015bf2b76',\n",
      "  'date': '2020-08-01T14:18:51.702Z',\n",
      "  'headline': 'Mail Delays Fuel Fear Trump Is Undercutting Postal System '\n",
      "              'Before VoteTammy Duckworth Is Nothing Like Joe Biden and '\n",
      "              'Everything Like HimHere are five takeaways from this week in '\n",
      "              'the 2020 campaign.',\n",
      "  'saved': True,\n",
      "  'summary': 'President Trump’s yearslong assault on the Postal Service and '\n",
      "             'his increasingly dire warnings about the dangers of voting by '\n",
      "             'mail are colliding.Despite their disparate backgrounds, the '\n",
      "             'Illinois senator has carved out a public life evocative of the '\n",
      "             'man she could join on the presidential ticket.',\n",
      "  'url': 'https://www.nytimes.com/2020/07/31/us/politics/trump-usps-mail-delays.html'},\n",
      " {'__v': 0,\n",
      "  '_id': '5f2579cb5b0f0a0015bf2b75',\n",
      "  'date': '2020-08-01T14:18:51.702Z',\n",
      "  'headline': 'How Far-Right Police Officers and Ex-Soldiers Planned for ‘Day '\n",
      "              'X’',\n",
      "  'saved': True,\n",
      "  'summary': 'Germany has woken up to a problem of extremism in its special '\n",
      "             'forces. But the threat of neo-Nazi infiltration of state '\n",
      "             'institutions is much broader.',\n",
      "  'url': 'https://www.nytimes.com/2020/08/01/world/europe/germany-nazi-infiltration.html'},\n",
      " {'__v': 0,\n",
      "  '_id': '5f2579cb5b0f0a0015bf2b74',\n",
      "  'date': '2020-08-01T14:18:51.702Z',\n",
      "  'headline': '12 People Shared a 3-Bedroom House When the Virus HitVirus '\n",
      "              'Infected Hundreds at a Georgia Summer Camp',\n",
      "  'saved': True,\n",
      "  'summary': 'Overcrowding has defined many coronavirus hot spots. Service '\n",
      "             'workers’ quarters around Silicon Valley are no exception.The '\n",
      "             'camp took precautions but did not require campers to wear masks, '\n",
      "             'the C.D.C. reported. Singing and cheering may have contributed '\n",
      "             'to the spread.',\n",
      "  'url': 'https://www.nytimes.com/2020/08/01/business/economy/housing-overcrowding-coronavirus.html'},\n",
      " {'__v': 0,\n",
      "  '_id': '5f2579cb5b0f0a0015bf2b72',\n",
      "  'date': '2020-08-01T14:18:51.701Z',\n",
      "  'headline': 'A School Reopens, and the Coronavirus Creeps InA $600-a-Week '\n",
      "              'Lifeline for Jobless ExpiresIndian Billionaires Bet Big on Head '\n",
      "              'Start in Vaccine Race',\n",
      "  'saved': True,\n",
      "  'summary': 'Tens of millions of unemployed Americans are losing a benefit. '\n",
      "             'California has confirmed over 500,000 cases. Here’s the '\n",
      "             'latest.The world’s largest vaccine producer has a plan to make '\n",
      "             'hundreds of millions of doses of an unproven inoculation. It’s a '\n",
      "             'big gamble.',\n",
      "  'url': 'https://www.nytimes.com/2020/08/01/us/schools-reopening-indiana-coronavirus.html'}]\n"
     ]
    }
   ],
   "source": [
    "# Specify the URL\n",
    "\n",
    "url = 'http://nyt-mongo-scraper.herokuapp.com/api/headlines'\n",
    "\n",
    "response = requests.get(url)\n",
    "\n",
    "mongo = response.json()\n",
    "\n",
    "# Make request and store response\n",
    "\n",
    "pprint(mongo)"
   ]
  },
  {
   "cell_type": "code",
   "execution_count": null,
   "metadata": {},
   "outputs": [],
   "source": [
    "# JSON-ify response"
   ]
  },
  {
   "cell_type": "code",
   "execution_count": 20,
   "metadata": {
    "scrolled": true
   },
   "outputs": [
    {
     "ename": "TypeError",
     "evalue": "'module' object is not callable",
     "output_type": "error",
     "traceback": [
      "\u001b[1;31m---------------------------------------------------------------------------\u001b[0m",
      "\u001b[1;31mTypeError\u001b[0m                                 Traceback (most recent call last)",
      "\u001b[1;32m<ipython-input-20-c6dfa2fbd7f5>\u001b[0m in \u001b[0;36m<module>\u001b[1;34m\u001b[0m\n\u001b[0;32m      1\u001b[0m \u001b[1;31m# Print first and last articles\u001b[0m\u001b[1;33m\u001b[0m\u001b[1;33m\u001b[0m\u001b[1;33m\u001b[0m\u001b[0m\n\u001b[1;32m----> 2\u001b[1;33m \u001b[0mpprint\u001b[0m\u001b[1;33m(\u001b[0m\u001b[0mjson\u001b[0m\u001b[1;33m.\u001b[0m\u001b[0mdumps\u001b[0m\u001b[1;33m(\u001b[0m\u001b[0mmongo\u001b[0m\u001b[1;33m[\u001b[0m\u001b[1;36m0\u001b[0m\u001b[1;33m]\u001b[0m\u001b[1;33m,\u001b[0m \u001b[0mindent\u001b[0m\u001b[1;33m=\u001b[0m\u001b[1;36m2\u001b[0m\u001b[1;33m)\u001b[0m\u001b[1;33m)\u001b[0m\u001b[1;33m\u001b[0m\u001b[1;33m\u001b[0m\u001b[0m\n\u001b[0m\u001b[0;32m      3\u001b[0m \u001b[0mjson\u001b[0m\u001b[1;33m.\u001b[0m\u001b[0mdumps\u001b[0m\u001b[1;33m(\u001b[0m\u001b[0mmongo\u001b[0m\u001b[1;33m[\u001b[0m\u001b[1;33m-\u001b[0m\u001b[1;36m1\u001b[0m\u001b[1;33m]\u001b[0m\u001b[1;33m,\u001b[0m\u001b[0mindent\u001b[0m\u001b[1;33m=\u001b[0m\u001b[1;36m2\u001b[0m\u001b[1;33m)\u001b[0m\u001b[1;33m\u001b[0m\u001b[1;33m\u001b[0m\u001b[0m\n\u001b[0;32m      4\u001b[0m \u001b[1;33m\u001b[0m\u001b[0m\n\u001b[0;32m      5\u001b[0m \u001b[1;31m# [-1] will give you the last item in the list\u001b[0m\u001b[1;33m\u001b[0m\u001b[1;33m\u001b[0m\u001b[1;33m\u001b[0m\u001b[0m\n",
      "\u001b[1;31mTypeError\u001b[0m: 'module' object is not callable"
     ]
    }
   ],
   "source": [
    "# Print first and last articles\n",
    "json.dumps(mongo[0], indent=2)\n",
    "json.dumps(mongo[-1],indent=2)\n",
    "\n",
    "# [-1] will give you the last item in the list\n"
   ]
  },
  {
   "cell_type": "code",
   "execution_count": 21,
   "metadata": {},
   "outputs": [
    {
     "name": "stdout",
     "output_type": "stream",
     "text": [
      "12\n"
     ]
    }
   ],
   "source": [
    "#Print the number of responses received.\n",
    "print(len(mongo))"
   ]
  },
  {
   "cell_type": "code",
   "execution_count": null,
   "metadata": {},
   "outputs": [],
   "source": []
  }
 ],
 "metadata": {
  "kernelspec": {
   "display_name": "Python 3",
   "language": "python",
   "name": "python3"
  },
  "language_info": {
   "codemirror_mode": {
    "name": "ipython",
    "version": 3
   },
   "file_extension": ".py",
   "mimetype": "text/x-python",
   "name": "python",
   "nbconvert_exporter": "python",
   "pygments_lexer": "ipython3",
   "version": "3.7.6"
  },
  "varInspector": {
   "cols": {
    "lenName": 16,
    "lenType": 16,
    "lenVar": 40
   },
   "kernels_config": {
    "python": {
     "delete_cmd_postfix": "",
     "delete_cmd_prefix": "del ",
     "library": "var_list.py",
     "varRefreshCmd": "print(var_dic_list())"
    },
    "r": {
     "delete_cmd_postfix": ") ",
     "delete_cmd_prefix": "rm(",
     "library": "var_list.r",
     "varRefreshCmd": "cat(var_dic_list()) "
    }
   },
   "types_to_exclude": [
    "module",
    "function",
    "builtin_function_or_method",
    "instance",
    "_Feature"
   ],
   "window_display": false
  }
 },
 "nbformat": 4,
 "nbformat_minor": 2
}
