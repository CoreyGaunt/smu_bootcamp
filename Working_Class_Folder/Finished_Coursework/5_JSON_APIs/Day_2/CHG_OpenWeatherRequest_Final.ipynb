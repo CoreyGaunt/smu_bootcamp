{
 "cells": [
  {
   "cell_type": "code",
   "execution_count": 1,
   "metadata": {},
   "outputs": [],
   "source": [
    "# Dependencies\n",
    "import json\n",
    "import requests\n",
    "from config import OpenWeather_Key"
   ]
  },
  {
   "cell_type": "code",
   "execution_count": 5,
   "metadata": {},
   "outputs": [
    {
     "data": {
      "text/plain": [
       "'http://api.openweathermap.org/data/2.5/weather?q=London&appid=56012104cce63085433e8697b99cee33'"
      ]
     },
     "execution_count": 5,
     "metadata": {},
     "output_type": "execute_result"
    }
   ],
   "source": [
    "# Save config information\n",
    "url = \"http://api.openweathermap.org/data/2.5/weather?\"\n",
    "city = \"London\"\n",
    "\n",
    "# Build query URL\n",
    "\n",
    "# query_url = url + 'appid=' + OpenWeather_Key + '&q=' + city + 'units=' + metric\n",
    "\n",
    "query_url = f'http://api.openweathermap.org/data/2.5/weather?q={city}&appid={OpenWeather_Key}'\n",
    "query_url"
   ]
  },
  {
   "cell_type": "code",
   "execution_count": 7,
   "metadata": {},
   "outputs": [
    {
     "name": "stdout",
     "output_type": "stream",
     "text": [
      "{'coord': {'lon': -0.13, 'lat': 51.51}, 'weather': [{'id': 500, 'main': 'Rain', 'description': 'light rain', 'icon': '10d'}], 'base': 'stations', 'main': {'temp': 297.95, 'feels_like': 294.95, 'temp_min': 297.59, 'temp_max': 298.15, 'pressure': 1014, 'humidity': 41}, 'visibility': 10000, 'wind': {'speed': 4.6, 'deg': 250}, 'rain': {'1h': 0.19}, 'clouds': {'all': 85}, 'dt': 1596298210, 'sys': {'type': 1, 'id': 1414, 'country': 'GB', 'sunrise': 1596255883, 'sunset': 1596311328}, 'timezone': 3600, 'id': 2643743, 'name': 'London', 'cod': 200}\n"
     ]
    },
    {
     "data": {
      "text/plain": [
       "[{'id': 500, 'main': 'Rain', 'description': 'light rain', 'icon': '10d'}]"
      ]
     },
     "execution_count": 7,
     "metadata": {},
     "output_type": "execute_result"
    }
   ],
   "source": [
    "# Get weather data\n",
    "\n",
    "weather_response = requests.get(query_url)\n",
    "weather_json = weather_response.json()\n",
    "\n",
    "print(weather_json)\n",
    "\n",
    "\n",
    "# Get the temperature from the response\n",
    "\n",
    "weather_json['weather']"
   ]
  },
  {
   "cell_type": "code",
   "execution_count": null,
   "metadata": {},
   "outputs": [],
   "source": []
  }
 ],
 "metadata": {
  "kernelspec": {
   "display_name": "Python 3",
   "language": "python",
   "name": "python3"
  },
  "language_info": {
   "codemirror_mode": {
    "name": "ipython",
    "version": 3
   },
   "file_extension": ".py",
   "mimetype": "text/x-python",
   "name": "python",
   "nbconvert_exporter": "python",
   "pygments_lexer": "ipython3",
   "version": "3.7.6"
  },
  "varInspector": {
   "cols": {
    "lenName": 16,
    "lenType": 16,
    "lenVar": 40
   },
   "kernels_config": {
    "python": {
     "delete_cmd_postfix": "",
     "delete_cmd_prefix": "del ",
     "library": "var_list.py",
     "varRefreshCmd": "print(var_dic_list())"
    },
    "r": {
     "delete_cmd_postfix": ") ",
     "delete_cmd_prefix": "rm(",
     "library": "var_list.r",
     "varRefreshCmd": "cat(var_dic_list()) "
    }
   },
   "types_to_exclude": [
    "module",
    "function",
    "builtin_function_or_method",
    "instance",
    "_Feature"
   ],
   "window_display": false
  }
 },
 "nbformat": 4,
 "nbformat_minor": 2
}
