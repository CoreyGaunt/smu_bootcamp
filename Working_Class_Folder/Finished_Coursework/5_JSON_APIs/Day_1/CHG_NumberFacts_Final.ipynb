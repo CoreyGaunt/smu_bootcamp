{
 "cells": [
  {
   "cell_type": "code",
   "execution_count": 1,
   "metadata": {},
   "outputs": [],
   "source": [
    "# Dependencies\n",
    "import requests\n",
    "import json\n",
    "import pprint as pprint"
   ]
  },
  {
   "cell_type": "code",
   "execution_count": 2,
   "metadata": {},
   "outputs": [
    {
     "name": "stdout",
     "output_type": "stream",
     "text": [
      "Please enter a number (ex. 1) or date if you would like to search data marked as date (ex. 7/1): 3\n",
      "http://numbersapi.com/\n",
      "http://numbersapi.com/3\n"
     ]
    }
   ],
   "source": [
    "# Base URL for GET requests to retrieve number/date facts\n",
    "baseUrl = \"http://numbersapi.com/\"\n",
    "number = input(\"Please enter a number (ex. 1) or date if you would like to search data marked as date (ex. 7/1): \")\n",
    "url = (baseUrl + number)\n",
    "print(baseUrl)\n",
    "print(url)"
   ]
  },
  {
   "cell_type": "code",
   "execution_count": 3,
   "metadata": {},
   "outputs": [
    {
     "name": "stdout",
     "output_type": "stream",
     "text": [
      "What type of data would you like to search for? (M)ath? (D)ate? (T)rivia? (Y)ear?y\n",
      "http://numbersapi.com/3/year?json\n"
     ]
    }
   ],
   "source": [
    "# Ask the user what kind of data they would like to search for\n",
    "type_r = input(\"What type of data would you like to search for? (M)ath? (D)ate? (T)rivia? (Y)ear?\")\n",
    "\n",
    "if type_r == 'm':\n",
    "    url = url + '/math?json'\n",
    "elif type_r == 'd':\n",
    "    url = url + '/date?json'\n",
    "elif type_r == 't' or type_r == '' or type_r == None:\n",
    "    url = url + '?json'\n",
    "elif type_r == 'y':\n",
    "    url = url + '/year?json'\n",
    "else:\n",
    "    print('Please pick a different option')\n",
    "    \n",
    "print(url)"
   ]
  },
  {
   "cell_type": "code",
   "execution_count": 5,
   "metadata": {},
   "outputs": [
    {
     "data": {
      "text/plain": [
       "{'text': '3 is the year that Menneas becomes Archon of Athens.',\n",
       " 'number': 3,\n",
       " 'found': True,\n",
       " 'type': 'year'}"
      ]
     },
     "execution_count": 5,
     "metadata": {},
     "output_type": "execute_result"
    }
   ],
   "source": [
    "responseJson"
   ]
  },
  {
   "cell_type": "code",
   "execution_count": 4,
   "metadata": {},
   "outputs": [
    {
     "name": "stdout",
     "output_type": "stream",
     "text": [
      "3 is the year that Menneas becomes Archon of Athens.\n"
     ]
    }
   ],
   "source": [
    "# Create code to return a number fact\n",
    "\n",
    "responseObject = requests.get(url)\n",
    "responseJson = responseObject.json()\n",
    "output = responseJson['text']\n",
    "print(output)"
   ]
  },
  {
   "cell_type": "code",
   "execution_count": null,
   "metadata": {},
   "outputs": [],
   "source": []
  }
 ],
 "metadata": {
  "kernelspec": {
   "display_name": "Python 3",
   "language": "python",
   "name": "python3"
  },
  "language_info": {
   "codemirror_mode": {
    "name": "ipython",
    "version": 3
   },
   "file_extension": ".py",
   "mimetype": "text/x-python",
   "name": "python",
   "nbconvert_exporter": "python",
   "pygments_lexer": "ipython3",
   "version": "3.7.6"
  },
  "varInspector": {
   "cols": {
    "lenName": 16,
    "lenType": 16,
    "lenVar": 40
   },
   "kernels_config": {
    "python": {
     "delete_cmd_postfix": "",
     "delete_cmd_prefix": "del ",
     "library": "var_list.py",
     "varRefreshCmd": "print(var_dic_list())"
    },
    "r": {
     "delete_cmd_postfix": ") ",
     "delete_cmd_prefix": "rm(",
     "library": "var_list.r",
     "varRefreshCmd": "cat(var_dic_list()) "
    }
   },
   "types_to_exclude": [
    "module",
    "function",
    "builtin_function_or_method",
    "instance",
    "_Feature"
   ],
   "window_display": false
  }
 },
 "nbformat": 4,
 "nbformat_minor": 2
}
