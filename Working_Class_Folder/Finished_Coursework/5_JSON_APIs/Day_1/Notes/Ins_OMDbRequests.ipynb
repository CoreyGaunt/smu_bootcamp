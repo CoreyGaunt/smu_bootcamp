{
 "cells": [
  {
   "cell_type": "code",
   "execution_count": 1,
   "metadata": {},
   "outputs": [],
   "source": [
    "import requests\n",
    "import json\n",
    "from config import api_key"
   ]
  },
  {
   "cell_type": "code",
   "execution_count": 2,
   "metadata": {},
   "outputs": [],
   "source": [
    "# New Dependency! Use this to pretty print the JSON\n",
    "# https://docs.python.org/3/library/pprint.html\n",
    "from pprint import pprint"
   ]
  },
  {
   "cell_type": "code",
   "execution_count": 3,
   "metadata": {},
   "outputs": [],
   "source": [
    "'''One of the biggest differences of the OMDb API from our previous \n",
    "API examples is the format of the URL. In this case we will have to use URL parameters.\n",
    "\n",
    "The two basic parameters used in the OMDb API get request are ?t= and api_key.\n",
    "The t within the URL string stands for \"title\". \n",
    "This means that the URL http://www.omdbapi.com/?t=Aliens is asking the omdb API to \n",
    "return all of the information on movies with the title \"Aliens.\"\n",
    "\n",
    "The section of the URL following such a question mark is called a query string.\n",
    "\n",
    "Query strings are a way of sending information from the client to the server, \n",
    "which the server can then interpret to return more specific data.\n",
    "\n",
    "The query string also includes something known as an \"API Key\" at the end. \n",
    "API keys are used by developers to collect data from APIs with some layers of protection on them. \n",
    "Without a valid API key for the omdb API, for example, no data would be returned.\n",
    "\n",
    "'''\n",
    "\n",
    "# Note that the ?t= is a query param for the t-itle of the\n",
    "# movie we want to search for.\n",
    "url = \"http://www.omdbapi.com/?t=\"\n",
    "api_key = \"&apikey=\" + api_key"
   ]
  },
  {
   "cell_type": "code",
   "execution_count": 4,
   "metadata": {},
   "outputs": [],
   "source": [
    "# Performing a GET request similar to the one we executed\n",
    "# earlier\n",
    "response = requests.get(url + \"Aliens\" + api_key)"
   ]
  },
  {
   "cell_type": "code",
   "execution_count": 5,
   "metadata": {},
   "outputs": [
    {
     "name": "stdout",
     "output_type": "stream",
     "text": [
      "{'Actors': 'Sigourney Weaver, Carrie Henn, Michael Biehn, Paul Reiser',\n",
      " 'Awards': 'Won 2 Oscars. Another 18 wins & 22 nominations.',\n",
      " 'BoxOffice': 'N/A',\n",
      " 'Country': 'USA, UK',\n",
      " 'DVD': '01 Jun 1999',\n",
      " 'Director': 'James Cameron',\n",
      " 'Genre': 'Action, Adventure, Sci-Fi, Thriller',\n",
      " 'Language': 'English',\n",
      " 'Metascore': '84',\n",
      " 'Plot': 'Ellen Ripley is rescued by a deep salvage team after being in '\n",
      "         'hypersleep for 57 years. The moon that the Nostromo visited has been '\n",
      "         'colonized, but contact is lost. This time, colonial marines have '\n",
      "         'impressive firepower, but will that be enough?',\n",
      " 'Poster': 'https://m.media-amazon.com/images/M/MV5BZGU2OGY5ZTYtMWNhYy00NjZiLWI0NjUtZmNhY2JhNDRmODU3XkEyXkFqcGdeQXVyNzkwMjQ5NzM@._V1_SX300.jpg',\n",
      " 'Production': '20th Century Fox',\n",
      " 'Rated': 'R',\n",
      " 'Ratings': [{'Source': 'Internet Movie Database', 'Value': '8.4/10'},\n",
      "             {'Source': 'Rotten Tomatoes', 'Value': '99%'},\n",
      "             {'Source': 'Metacritic', 'Value': '84/100'}],\n",
      " 'Released': '18 Jul 1986',\n",
      " 'Response': 'True',\n",
      " 'Runtime': '137 min',\n",
      " 'Title': 'Aliens',\n",
      " 'Type': 'movie',\n",
      " 'Website': 'https://www.foxmovies.com/movies/aliens',\n",
      " 'Writer': 'James Cameron (story by), David Giler (story by), Walter Hill '\n",
      "           \"(story by), Dan O'Bannon (based on characters created by), Ronald \"\n",
      "           'Shusett (based on characters created by), James Cameron '\n",
      "           '(screenplay by)',\n",
      " 'Year': '1986',\n",
      " 'imdbID': 'tt0090605',\n",
      " 'imdbRating': '8.4',\n",
      " 'imdbVotes': '607,299'}\n"
     ]
    }
   ],
   "source": [
    "''' This looks nearly identical to the API calls students have been working with. \n",
    "The URL for the API is stored before an API call is made. The response is then stored and converted to JSON. \n",
    "The keys are then printed via dictionary access.\n",
    "\n",
    "Other than the query string, there is nothing new here— now interacting with complex real-world APIs!'''\n",
    "\n",
    "# Converting the response to JSON, and printing the result.\n",
    "data = response.json()\n",
    "pprint(data)"
   ]
  },
  {
   "cell_type": "code",
   "execution_count": 6,
   "metadata": {},
   "outputs": [
    {
     "name": "stdout",
     "output_type": "stream",
     "text": [
      "Movie was directed by James Cameron.\n",
      "Movie was released in USA, UK.\n"
     ]
    }
   ],
   "source": [
    "# Print a few keys from the response JSON.\n",
    "print(f\"Movie was directed by {data['Director']}.\")\n",
    "print(f\"Movie was released in {data['Country']}.\")"
   ]
  },
  {
   "cell_type": "code",
   "execution_count": null,
   "metadata": {},
   "outputs": [],
   "source": []
  }
 ],
 "metadata": {
  "kernelspec": {
   "display_name": "Python 3",
   "language": "python",
   "name": "python3"
  },
  "language_info": {
   "codemirror_mode": {
    "name": "ipython",
    "version": 3
   },
   "file_extension": ".py",
   "mimetype": "text/x-python",
   "name": "python",
   "nbconvert_exporter": "python",
   "pygments_lexer": "ipython3",
   "version": "3.7.6"
  },
  "varInspector": {
   "cols": {
    "lenName": 16,
    "lenType": 16,
    "lenVar": 40
   },
   "kernels_config": {
    "python": {
     "delete_cmd_postfix": "",
     "delete_cmd_prefix": "del ",
     "library": "var_list.py",
     "varRefreshCmd": "print(var_dic_list())"
    },
    "r": {
     "delete_cmd_postfix": ") ",
     "delete_cmd_prefix": "rm(",
     "library": "var_list.r",
     "varRefreshCmd": "cat(var_dic_list()) "
    }
   },
   "types_to_exclude": [
    "module",
    "function",
    "builtin_function_or_method",
    "instance",
    "_Feature"
   ],
   "window_display": false
  }
 },
 "nbformat": 4,
 "nbformat_minor": 2
}
