{
 "cells": [
  {
   "cell_type": "code",
   "execution_count": null,
   "metadata": {
    "collapsed": true
   },
   "outputs": [],
   "source": [
    "# Dependencies\n",
    "from bs4 import BeautifulSoup\n",
    "import requests\n",
    "import pymongo"
   ]
  },
  {
   "cell_type": "code",
   "execution_count": null,
   "metadata": {
    "collapsed": true
   },
   "outputs": [],
   "source": [
    "# Initialize PyMongo to work with MongoDBs\n",
    "conn = 'mongodb://localhost:27017'\n",
    "client = pymongo.MongoClient(conn)"
   ]
  },
  {
   "cell_type": "code",
   "execution_count": null,
   "metadata": {
    "collapsed": true
   },
   "outputs": [],
   "source": [
    "# Define database and collection\n",
    "db = client.hockey_db\n",
    "collection = db.news"
   ]
  },
  {
   "cell_type": "code",
   "execution_count": null,
   "metadata": {
    "collapsed": true
   },
   "outputs": [],
   "source": [
    "# URL of page to be scraped\n",
    "url = 'https://www.nhl.com/news'"
   ]
  },
  {
   "cell_type": "code",
   "execution_count": null,
   "metadata": {
    "collapsed": true
   },
   "outputs": [],
   "source": [
    "# Retrieve page with the requests module\n",
    "response = requests.get(url)"
   ]
  },
  {
   "cell_type": "code",
   "execution_count": null,
   "metadata": {
    "collapsed": true
   },
   "outputs": [],
   "source": [
    "# Create BeautifulSoup object; parse with 'lxml'\n",
    "soup = BeautifulSoup(response.text,'lxml')"
   ]
  },
  {
   "cell_type": "code",
   "execution_count": 35,
   "metadata": {
    "collapsed": true,
    "tags": []
   },
   "outputs": [
    {
     "output_type": "stream",
     "name": "stdout",
     "text": "-----------------\nPoint not playing for Lightning against Islanders in Game 5 of East Final\nForward sat out second half of third period in Game 4 after missing Game 3\n2020-09-15\n-----------------\nLaviolette hired as Capitals coach\nReplaces Reirden, won Stanley Cup with Hurricanes in 2006\n2020-09-15\n-----------------\nStars' bonding in bubble helps pave way to Stanley Cup Final\nCameraderie built during Edmonton stay powers defeat of Golden Knights in West Final\n2020-09-15\n-----------------\nBrodin signs seven-year contract extension with Wild\nDefenseman gets $6 million annually, could have been unrestricted free agent after next season\n2020-09-15\n-----------------\nHow Western Conference champion Stars were built\nRoster shaped by signing Pavelski, Khudobin, drafting Benn, Heiskanen, Klingberg\n2020-09-15\n-----------------\n'Quest for the Stanley Cup' goes behind scenes of conference finals\nVegas goalie Lehner talks mental health, Lightning play football in latest episode\n2020-09-15\n-----------------\nGolden Knights devastated, say loss in West Final is 'wasted opportunity'\nFelt primed for run at Stanley Cup after coaching change, trades for Lehner, Martinez\n2020-09-15\n-----------------\nHoltby expected to become free agent, Capitals will stay in contact\nGoalie, who turns 31 on Sept. 16, had 3.11 GAA, .897 save percentage in 48 games\n2020-09-15\n-----------------\nStars used depth to reach Stanley Cup Final by defeating Golden Knights\nZettler says Dallas showed enough grit to do dirty work in Game 5 victory\n2020-09-15\n-----------------\nGolden Knights offense fails during loss to Stars in Western Final\nStable roster, quality goaltending provide hope for next season\n2020-09-15\n-----------------\nStanley Cup Playoffs conference finals schedule\nBest-of-7 series to be played in Edmonton\n2020-09-14\n-----------------\nFive Questions with Jim Hughson\n'HNIC' broadcaster discusses calling games with no fans, Foster Hewitt Award celebration\n2020-09-15\n-----------------\nStars will play Lightning or Islanders in Stanley Cup Final\nDefeat Golden Knights in five games, advance to championship round for first time since 2000\n2020-09-15\n-----------------\nU.S. Hockey Hall of Fame Class of 2020 includes Granato, York\nPotter, Blais join former NHL forward, NCAA coaching legend\n2020-09-15\n-----------------\nStanley Cup Playoffs fantasy pool rankings\nUpdated list of most valuable players for pools counting rest of postseason\n2020-09-15\n-----------------\nStars don't touch Clarence S. Campbell Bowl after Game 5 win\nWestern Conference champions stay away from trophy after eliminating Golden Knights\n2020-09-14\n-----------------\nStars show again in Game 5 that they're never out when down\nRally for OT win against Golden Knights to advance to Stanley Cup Final\n2020-09-15\n-----------------\nCCM, Carbon team up for game-changing 3D printed helmet\nThree NHL players wore lattice-lined headwear that will be available League-wide for 2020-21\n2020-09-14\n-----------------\n2020 Draft: Lafreniere, Stuetzle should make jump right into NHL\nRossi, Lundell also capable, according to former GM Button\n2020-09-15\n-----------------\n2020 NHL Draft to be held virtually Oct. 6-7\nRangers expected to select Lafreniere at No. 1; Senators, Devils each with three first-round picks\n2020-09-11\n-----------------\nHedman proves again in Eastern Final he was right pick for Lightning\nCan help eliminate Islanders, who took Tavares over defenseman in 2009 NHL Draft\n2020-09-14\n-----------------\nFacts and Figures: Stars rookies prove clutch on road to Cup Final\nGurianov, Kiviranta fourth set of first-year players to score series-clinching goal in playoff year\n2020-09-15\n"
    },
    {
     "output_type": "error",
     "ename": "AttributeError",
     "evalue": "'NoneType' object has no attribute 'text'",
     "traceback": [
      "\u001b[1;31m---------------------------------------------------------------------------\u001b[0m",
      "\u001b[1;31mAttributeError\u001b[0m                            Traceback (most recent call last)",
      "\u001b[1;32m<ipython-input-35-6bba9ada9efc>\u001b[0m in \u001b[0;36m<module>\u001b[1;34m\u001b[0m\n\u001b[0;32m      7\u001b[0m \u001b[1;33m\u001b[0m\u001b[0m\n\u001b[0;32m      8\u001b[0m     \u001b[1;31m# scrape the article subheader\u001b[0m\u001b[1;33m\u001b[0m\u001b[1;33m\u001b[0m\u001b[1;33m\u001b[0m\u001b[0m\n\u001b[1;32m----> 9\u001b[1;33m     \u001b[0msubheader\u001b[0m \u001b[1;33m=\u001b[0m \u001b[0mresult\u001b[0m\u001b[1;33m.\u001b[0m\u001b[0mfind\u001b[0m\u001b[1;33m(\u001b[0m\u001b[1;34m'h2'\u001b[0m\u001b[1;33m,\u001b[0m \u001b[0mclass_\u001b[0m\u001b[1;33m=\u001b[0m\u001b[1;34m'article-item__subheader'\u001b[0m\u001b[1;33m)\u001b[0m\u001b[1;33m.\u001b[0m\u001b[0mtext\u001b[0m\u001b[1;33m\u001b[0m\u001b[1;33m\u001b[0m\u001b[0m\n\u001b[0m\u001b[0;32m     10\u001b[0m \u001b[1;33m\u001b[0m\u001b[0m\n\u001b[0;32m     11\u001b[0m     \u001b[1;31m# scrape the datetime\u001b[0m\u001b[1;33m\u001b[0m\u001b[1;33m\u001b[0m\u001b[1;33m\u001b[0m\u001b[0m\n",
      "\u001b[1;31mAttributeError\u001b[0m: 'NoneType' object has no attribute 'text'"
     ]
    }
   ],
   "source": [
    "# Retrieve the parent divs for all articles\n",
    "results = soup.find_all('div', class_='article-item__top')\n",
    "# loop over results to get article data\n",
    "for result in results:\n",
    "    # scrape the article header \n",
    "    header = result.find('h1', class_='article-item__headline').text\n",
    "    \n",
    "    # scrape the article subheader\n",
    "    subheader = result.find('h2', class_='article-item__subheader').text\n",
    "    \n",
    "    # scrape the datetime\n",
    "    datetime = result.find('span',class_='article-item__date')['data-date']\n",
    "    # get only the date from the datetime\n",
    "    date = datetime.split('T')[0]\n",
    "    # print article data\n",
    "    print('-----------------')\n",
    "    print(header)\n",
    "    print(subheader)\n",
    "    print(date)\n",
    "\n",
    "    # Dictionary to be inserted into MongoDB\n",
    "\n",
    "\n",
    "    # Insert dictionary into MongoDB as a document\n"
   ]
  },
  {
   "cell_type": "code",
   "execution_count": null,
   "metadata": {
    "tags": []
   },
   "outputs": [],
   "source": [
    "results"
   ]
  },
  {
   "cell_type": "code",
   "execution_count": null,
   "metadata": {
    "collapsed": true
   },
   "outputs": [],
   "source": [
    "# Display the MongoDB records created above\n",
    "articles = db.articles.find()\n",
    "for article in articles:\n",
    "    print(article)"
   ]
  }
 ],
 "metadata": {
  "kernelspec": {
   "display_name": "Python 3",
   "language": "python",
   "name": "python3"
  },
  "language_info": {
   "codemirror_mode": {
    "name": "ipython",
    "version": 3
   },
   "file_extension": ".py",
   "mimetype": "text/x-python",
   "name": "python",
   "nbconvert_exporter": "python",
   "pygments_lexer": "ipython3",
   "version": "3.7.6-final"
  },
  "varInspector": {
   "cols": {
    "lenName": 16,
    "lenType": 16,
    "lenVar": 40
   },
   "kernels_config": {
    "python": {
     "delete_cmd_postfix": "",
     "delete_cmd_prefix": "del ",
     "library": "var_list.py",
     "varRefreshCmd": "print(var_dic_list())"
    },
    "r": {
     "delete_cmd_postfix": ") ",
     "delete_cmd_prefix": "rm(",
     "library": "var_list.r",
     "varRefreshCmd": "cat(var_dic_list()) "
    }
   },
   "types_to_exclude": [
    "module",
    "function",
    "builtin_function_or_method",
    "instance",
    "_Feature"
   ],
   "window_display": false
  }
 },
 "nbformat": 4,
 "nbformat_minor": 2
}