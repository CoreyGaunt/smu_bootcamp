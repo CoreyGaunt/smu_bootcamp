{
 "cells": [
  {
   "cell_type": "code",
   "execution_count": 1,
   "metadata": {
    "collapsed": true
   },
   "outputs": [],
   "source": [
    "# Dependencies\n",
    "import os\n",
    "from bs4 import BeautifulSoup as bs"
   ]
  },
  {
   "cell_type": "code",
   "execution_count": 2,
   "metadata": {
    "collapsed": true
   },
   "outputs": [],
   "source": [
    "# Read HTML from file\n",
    "filepath = os.path.join(\"..\", \"Resources\", \"template.html\")\n",
    "with open(filepath) as file:\n",
    "    html = file.read()"
   ]
  },
  {
   "cell_type": "code",
   "execution_count": 4,
   "metadata": {
    "collapsed": true
   },
   "outputs": [],
   "source": [
    "# Create a Beautiful Soup object\n",
    "MY_soup = bs(html, 'html.parser')"
   ]
  },
  {
   "cell_type": "code",
   "execution_count": 5,
   "metadata": {
    "tags": []
   },
   "outputs": [
    {
     "output_type": "stream",
     "name": "stdout",
     "text": "Top Ten Stories From 1996\n"
    }
   ],
   "source": [
    "# Extract title text\n",
    "print(MY_soup.title.text)"
   ]
  },
  {
   "cell_type": "code",
   "execution_count": 9,
   "metadata": {},
   "outputs": [
    {
     "output_type": "execute_result",
     "data": {
      "text/plain": "[<p><br/>\n <table border=\"0\" cellpadding=\"0\" cellspacing=\"0\">\n <tr>\n <td><img align=\"TOP\" height=\"60\" src=\"logos.gif\" width=\"112\"/></td>\n <td><img align=\"TOP\" height=\"60\" src=\"banner.gif\" width=\"360\"/></td>\n </tr>\n </table>\n </p>,\n <p align=\"RIGHT\"><b><tt>What were the biggest stories of the year?</tt></b><br/>\n <br/>\n <font size=\"2\">It's a question journalists like to ask themselves at the end of every\n             year. Now you can join in the process. Here are our selections for the top ten news\n             stories of 1996.<br/>\n <br/>\n             Disagree with our choices? Then tell us what stories you think were most compelling\n             in the poll below.</font>\n </p>,\n <p align=\"CENTER\"><img align=\"MIDDLE\" height=\"24\" src=\"generic/topten.gif\" vspace=\"5\" width=\"263\"/>\n </p>]"
     },
     "metadata": {},
     "execution_count": 9
    }
   ],
   "source": [
    "# Print all paragraph texts\n",
    "MY_soup.body.find_all('p')"
   ]
  },
  {
   "cell_type": "code",
   "execution_count": 37,
   "metadata": {
    "collapsed": true,
    "tags": []
   },
   "outputs": [
    {
     "output_type": "stream",
     "name": "stdout",
     "text": "<a href=\"topten/israel/israel.index.html\" target=\"_top\"><b>Israel</b> elects <b>Netanyahu</b></a>\n<a href=\"topten/twa/twa.index.html\" target=\"_top\">Crash of TWA Flight 800</a>\n<a href=\"topten/yeltsin/yeltsin.index.html\" target=\"_top\"><b>Russia</b> elects <b>Yeltsin</b></a>\n<a href=\"topten/clinton/clinton.index.html\" target=\"_top\"><b>U.S</b>. elects <b>Clinton</b></a>\n<a href=\"topten/hutu/hutu.index.html\" target=\"_top\"><b>Hutu-Tutsi</b> conflict in central Africa</a>\n<a href=\"topten/bosnia/bosnia.index.html\" target=\"_top\">Peace, elections in <b>Bosnia</b></a>\n<a href=\"topten/saudi/saudi.index.html\" target=\"_top\"><b>U.S</b>. base bombed in <b>Saudi Arabia</b></a>\n<a href=\"topten/olympics/olympics.index.html\" target=\"_top\">Centennial <b>Olympic</b> Games</a>\n<a href=\"topten/aids/aids.index.html\" target=\"_top\">Advances against <b>AIDS</b></a>\n<a href=\"topten/unabomb/unabomb.index.html\" target=\"_top\"><b>Unabomb</b> suspect <b>Ted Kaczynski</b> arrested</a>\n"
    }
   ],
   "source": [
    "# Print all ten headlines\n",
    "print(MY_soup.find_all('a')[1])\n",
    "print(MY_soup.find_all('a')[3])\n",
    "print(MY_soup.find_all('a')[5])\n",
    "print(MY_soup.find_all('a')[7])\n",
    "print(MY_soup.find_all('a')[9])\n",
    "print(MY_soup.find_all('a')[11])\n",
    "print(MY_soup.find_all('a')[13])\n",
    "print(MY_soup.find_all('a')[15])\n",
    "print(MY_soup.find_all('a')[17])\n",
    "print(MY_soup.find_all('a')[19])"
   ]
  },
  {
   "cell_type": "code",
   "execution_count": 38,
   "metadata": {
    "tags": []
   },
   "outputs": [
    {
     "output_type": "stream",
     "name": "stdout",
     "text": "Israel elects Netanyahu\nCrash of TWA Flight 800\nRussia elects Yeltsin\nU.S. elects Clinton\nHutu-Tutsi conflict in central Africa\nPeace, elections in Bosnia\nU.S. base bombed in Saudi Arabia\nCentennial Olympic Games\nAdvances against AIDS\nUnabomb suspect Ted Kaczynski arrested\n"
    }
   ],
   "source": [
    "# Print only the headlines\n",
    "print(MY_soup.find_all('a')[1].text)\n",
    "print(MY_soup.find_all('a')[3].text)\n",
    "print(MY_soup.find_all('a')[5].text)\n",
    "print(MY_soup.find_all('a')[7].text)\n",
    "print(MY_soup.find_all('a')[9].text)\n",
    "print(MY_soup.find_all('a')[11].text)\n",
    "print(MY_soup.find_all('a')[13].text)\n",
    "print(MY_soup.find_all('a')[15].text)\n",
    "print(MY_soup.find_all('a')[17].text)\n",
    "print(MY_soup.find_all('a')[19].text)"
   ]
  },
  {
   "cell_type": "code",
   "execution_count": null,
   "metadata": {},
   "outputs": [],
   "source": []
  },
  {
   "cell_type": "code",
   "execution_count": null,
   "metadata": {},
   "outputs": [],
   "source": []
  }
 ],
 "metadata": {
  "kernelspec": {
   "display_name": "Python 3",
   "language": "python",
   "name": "python3"
  },
  "language_info": {
   "codemirror_mode": {
    "name": "ipython",
    "version": 3
   },
   "file_extension": ".py",
   "mimetype": "text/x-python",
   "name": "python",
   "nbconvert_exporter": "python",
   "pygments_lexer": "ipython3",
   "version": "3.7.6-final"
  },
  "varInspector": {
   "cols": {
    "lenName": 16,
    "lenType": 16,
    "lenVar": 40
   },
   "kernels_config": {
    "python": {
     "delete_cmd_postfix": "",
     "delete_cmd_prefix": "del ",
     "library": "var_list.py",
     "varRefreshCmd": "print(var_dic_list())"
    },
    "r": {
     "delete_cmd_postfix": ") ",
     "delete_cmd_prefix": "rm(",
     "library": "var_list.r",
     "varRefreshCmd": "cat(var_dic_list()) "
    }
   },
   "types_to_exclude": [
    "module",
    "function",
    "builtin_function_or_method",
    "instance",
    "_Feature"
   ],
   "window_display": false
  }
 },
 "nbformat": 4,
 "nbformat_minor": 2
}