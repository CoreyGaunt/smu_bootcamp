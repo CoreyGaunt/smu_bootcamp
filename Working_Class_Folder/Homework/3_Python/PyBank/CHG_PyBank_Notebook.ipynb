{
 "cells": [
  {
   "cell_type": "code",
   "execution_count": null,
   "metadata": {},
   "outputs": [],
   "source": [
    "# bring in dependencies\n",
    "import os\n",
    "import csv"
   ]
  },
  {
   "cell_type": "code",
   "execution_count": null,
   "metadata": {},
   "outputs": [],
   "source": [
    "# store file to variable\n",
    "bank = os.path.join (\"Resources\",\"pybank_budget_data.csv\")"
   ]
  },
  {
   "cell_type": "code",
   "execution_count": null,
   "metadata": {},
   "outputs": [],
   "source": [
    "# listing variables that I will fill later on\n",
    "m_list = []\n",
    "p_list = []\n",
    "total_PL = 0\n",
    "avg_chg = []\n",
    "max_date = 0\n",
    "min_date = \"\"\n"
   ]
  },
  {
   "cell_type": "code",
   "execution_count": null,
   "metadata": {},
   "outputs": [],
   "source": [
    "# opening the csv file to read\n",
    "with open(bank, encoding='utf-8') as csvfile:\n",
    "    csvreader = csv.reader(csvfile,delimiter=',')\n",
    "    csv_header = next(csvreader)\n",
    "\n",
    "    \n",
    "    #Tried List Comprehensions here - failed miserably\n",
    "    # total_PL = [(row[1]) for row in csvreader]\n",
    "    \n",
    "    # generating a list containing all of the dates\n",
    "    # m_list = [(row[0]) for row in csvreader]\n",
    "    \n",
    "    # Filling my months and profits list, as well as generating the total profit/losses number\n",
    "    for row in csvreader:\n",
    "        m_list.append(row[0])\n",
    "        p_list.append(int(row[1]))\n",
    "        total_PL += int(row[1])\n",
    "    \n",
    "    # generating variable to contain total number of months and total Profit/Loss in the dataset\n",
    "    months = len(m_list)  \n",
    "    \n",
    "    # Getting the average amount changed\n",
    "    for x in range(len(p_list)-1):\n",
    "        avg_chg.append(p_list[x+1]-p_list[x])\n",
    "        \n",
    "    change = round((sum(avg_chg) / len(avg_chg)),2)\n",
    "\n",
    "    # calculating the great increase and decreases in profits\n",
    "    max_p = max(avg_chg)\n",
    "    min_p = min(avg_chg)\n",
    "    \n",
    "    # finding the months with the greatest increase and decreases in profits\n",
    "    # I had to google to find this solution out\n",
    "    #\n",
    "    # Essentially, you are trying to find the 'Index Location' for the number with the highest profits, then you will\n",
    "    # reference that same index to get the month in your print statement\n",
    "    #\n",
    "    # so for example, if the highest profit number has the index 13 - to find the month\n",
    "    # you simply call on the same index number for our month list\n",
    "    \n",
    "    max_month = avg_chg.index(max_p) + 1\n",
    "    min_month = avg_chg.index(min_p) + 1\n",
    "    "
   ]
  },
  {
   "cell_type": "code",
   "execution_count": null,
   "metadata": {},
   "outputs": [],
   "source": [
    "#Print Statements\n",
    "\n",
    "print(\"Financial Analysis\")\n",
    "print(\"-------------------------\")\n",
    "print(f'Total Months: {months}')\n",
    "print(f'Total:{total_PL}')\n",
    "print(f'Average Change: ${change}')\n",
    "\n",
    "# this is what I was referring to in Cell 4 - I am calling on the list (m_list)\n",
    "# and passing the argument for the index of the max_month - this will print \n",
    "# the date of the Profit/Loss\n",
    "\n",
    "print(f'Greatest Increase in Profits: {m_list[max_month]} (${max_p})')\n",
    "print(f'Greatest Decrease in Profits: {m_list[min_month]} (${min_p})')\n",
    "\n"
   ]
  },
  {
   "cell_type": "code",
   "execution_count": null,
   "metadata": {},
   "outputs": [],
   "source": [
    "#Output\n",
    "\n",
    "output_file = os.path.join (\"Analysis\",\"CHG_pybankOutput.txt\")\n",
    "with open(output_file, \"w\") as textfile:\n",
    "    textfile.write(\"Financial Analysis \\n\")\n",
    "    textfile.write(\"------------------------- \\n\")\n",
    "    textfile.write(f'Total Months: {months}\\n')\n",
    "    textfile.write(f'Total:{total_PL}\\n')\n",
    "    textfile.write(f'Average Change: ${change}\\n')\n",
    "    textfile.write(f'Greatest Increase in Profits: {m_list[max_month]} (${max_p})\\n')\n",
    "    textfile.write(f'Greatest Decrease in Profits: {m_list[min_month]} (${min_p})')\n",
    "    "
   ]
  },
  {
   "cell_type": "code",
   "execution_count": null,
   "metadata": {},
   "outputs": [],
   "source": []
  }
 ],
 "metadata": {
  "kernelspec": {
   "display_name": "Python 3",
   "language": "python",
   "name": "python3"
  },
  "language_info": {
   "codemirror_mode": {
    "name": "ipython",
    "version": 3
   },
   "file_extension": ".py",
   "mimetype": "text/x-python",
   "name": "python",
   "nbconvert_exporter": "python",
   "pygments_lexer": "ipython3",
   "version": "3.7.6"
  }
 },
 "nbformat": 4,
 "nbformat_minor": 4
}
