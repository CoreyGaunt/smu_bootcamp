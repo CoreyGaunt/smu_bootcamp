{
 "cells": [
  {
   "cell_type": "code",
   "execution_count": 11,
   "metadata": {},
   "outputs": [],
   "source": [
    "# import dependencies\n",
    "import os, csv"
   ]
  },
  {
   "cell_type": "code",
   "execution_count": 12,
   "metadata": {},
   "outputs": [],
   "source": [
    "# import file from folder\n",
    "polls = os.path.join (\"Resources\",\"pypoll_election_data.csv\")"
   ]
  },
  {
   "cell_type": "code",
   "execution_count": 13,
   "metadata": {},
   "outputs": [],
   "source": [
    "# creating my variables\n",
    "votes_cast = []\n",
    "candidates = []\n",
    "k_count = 0\n",
    "c_count = 0\n",
    "l_count = 0\n",
    "o_count = 0"
   ]
  },
  {
   "cell_type": "code",
   "execution_count": 14,
   "metadata": {},
   "outputs": [],
   "source": [
    "# opening the file to read in the information\n",
    "with open(polls,encoding='utf-8') as file:\n",
    "    pollData = csv.reader(file,delimiter=',')\n",
    "    csv_header = next(pollData)\n",
    "    \n",
    "    # This block of data will give me a list of Voter ID numbers\n",
    "    # as well as populated my candidates list with all of the candidates\n",
    "    # and this will also \n",
    "    for row in pollData:\n",
    "        \n",
    "        votes_cast.append(row[0])\n",
    "        \n",
    "        candidates.append(row[2])\n",
    "        \n",
    "        if row[2] == \"Khan\":\n",
    "            k_count += 1\n",
    "        elif row[2] == \"Correy\":\n",
    "            c_count += 1\n",
    "        elif row[2] == \"Li\":\n",
    "            l_count += 1\n",
    "        elif row[2] == \"O'Tooley\":\n",
    "            o_count += 1"
   ]
  },
  {
   "cell_type": "code",
   "execution_count": 15,
   "metadata": {},
   "outputs": [],
   "source": [
    " # This block of code will give me the list of candidates people \n",
    "        # voted for in this election period\n",
    "        #unique_can = []\n",
    "    #for candidate in candidates:\n",
    "        #if candidate not in unique_can:\n",
    "            #unique_can.append(candidate)"
   ]
  },
  {
   "cell_type": "code",
   "execution_count": 16,
   "metadata": {},
   "outputs": [],
   "source": [
    "# generate total votes\n",
    "total_votes = len(votes_cast)"
   ]
  },
  {
   "cell_type": "code",
   "execution_count": 17,
   "metadata": {},
   "outputs": [],
   "source": [
    "#generate candidate percentages\n",
    "k_percent = (k_count / total_votes) * 100\n",
    "c_percent = (c_count / total_votes) * 100\n",
    "l_percent = (l_count / total_votes) * 100\n",
    "o_percent = (o_count / total_votes) * 100\n"
   ]
  },
  {
   "cell_type": "code",
   "execution_count": 18,
   "metadata": {},
   "outputs": [],
   "source": [
    "# selecting the winner of the election\n",
    "# found online that making a dictionary out of the items would be best\n",
    "results = {\"Khan\":k_count,\n",
    "          \"Correy\":c_count,\n",
    "          \"Li\":l_count,\n",
    "          \"O'Tooley\":o_count}\n",
    "\n",
    "# I found this code online - essentially what I'm doing here is calling a max function\n",
    "# on my results list, then calling a get function on the key\n",
    "winner = max(results, key=results.get)"
   ]
  },
  {
   "cell_type": "code",
   "execution_count": 19,
   "metadata": {},
   "outputs": [
    {
     "name": "stdout",
     "output_type": "stream",
     "text": [
      "Election Results\n",
      "------------------------\n",
      "Total Votes: 3521001\n",
      "------------------------\n",
      "Khan: 63.000% (2218231)\n",
      "Correy: 20.000% (704200)\n",
      "Li: 14.000% (492940)\n",
      "O'Tooley: 3.000% (105630)\n",
      "------------------------\n",
      "Winner: Khan\n",
      "------------------------\n"
     ]
    }
   ],
   "source": [
    "# Print Statements\n",
    "print(\"Election Results\")\n",
    "print(\"------------------------\")\n",
    "print(f'Total Votes: {total_votes}')\n",
    "print(\"------------------------\")\n",
    "print(f'Khan: {k_percent:.3f}% ({k_count})')\n",
    "print(f'Correy: {c_percent:.3f}% ({c_count})')\n",
    "print(f'Li: {l_percent:.3f}% ({l_count})')\n",
    "print(f\"O'Tooley: {o_percent:.3f}% ({o_count})\")\n",
    "print(\"------------------------\")\n",
    "print(f'Winner: {winner}')\n",
    "print(\"------------------------\")"
   ]
  },
  {
   "cell_type": "code",
   "execution_count": 20,
   "metadata": {},
   "outputs": [],
   "source": [
    "# Output\n",
    "\n",
    "output_file = os.path.join (\"Analysis\",\"CHG_pypollOutput.txt\")\n",
    "with open(output_file, \"w\") as textfile:\n",
    "    textfile.write(\"Election Results \\n\")\n",
    "    textfile.write(\"------------------------ \\n\")\n",
    "    textfile.write(f'Total Votes: {total_votes}\\n')\n",
    "    textfile.write(\"------------------------ \\n\")\n",
    "    textfile.write(f'Khan: {k_percent:.3f}% ({k_count})\\n')\n",
    "    textfile.write(f'Correy: {c_percent:.3f}% ({c_count})\\n')\n",
    "    textfile.write(f'Li: {l_percent:.3f}% ({l_count})\\n')\n",
    "    textfile.write(f\"O'Tooley: {o_percent:.3f}% ({o_count})\\n\")\n",
    "    textfile.write(\"------------------------ \\n\")\n",
    "    textfile.write(f'Winner: {winner}\\n')\n",
    "    textfile.write(\"------------------------\")"
   ]
  },
  {
   "cell_type": "code",
   "execution_count": null,
   "metadata": {},
   "outputs": [],
   "source": []
  }
 ],
 "metadata": {
  "kernelspec": {
   "display_name": "Python 3",
   "language": "python",
   "name": "python3"
  },
  "language_info": {
   "codemirror_mode": {
    "name": "ipython",
    "version": 3
   },
   "file_extension": ".py",
   "mimetype": "text/x-python",
   "name": "python",
   "nbconvert_exporter": "python",
   "pygments_lexer": "ipython3",
   "version": "3.7.6"
  }
 },
 "nbformat": 4,
 "nbformat_minor": 4
}
